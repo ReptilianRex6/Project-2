{
 "cells": [
  {
   "cell_type": "code",
   "execution_count": 1,
   "metadata": {},
   "outputs": [],
   "source": [
    "import numpy as np\n",
    "import pandas as pd\n",
    "import matplotlib.pyplot as plt\n",
    "from sklearn.model_selection import train_test_split\n",
    "from sklearn.metrics import accuracy_score\n",
    "from sklearn.ensemble import RandomForestRegressor\n",
    "from sklearn.metrics import mean_absolute_error, mean_squared_error, r2_score\n",
    "\n",
    "\n"
   ]
  },
  {
   "cell_type": "code",
   "execution_count": 2,
   "metadata": {},
   "outputs": [],
   "source": [
    "data = pd.read_csv('../resources/dataset.csv')\n"
   ]
  },
  {
   "cell_type": "code",
   "execution_count": 3,
   "metadata": {},
   "outputs": [],
   "source": [
    "# sort by player name\n",
    "data = data.sort_values('Name')\n"
   ]
  },
  {
   "cell_type": "code",
   "execution_count": 4,
   "metadata": {},
   "outputs": [],
   "source": [
    "data = data.copy()"
   ]
  },
  {
   "cell_type": "code",
   "execution_count": 5,
   "metadata": {},
   "outputs": [
    {
     "name": "stdout",
     "output_type": "stream",
     "text": [
      "<class 'pandas.core.frame.DataFrame'>\n",
      "Index: 4827 entries, 3230 to 3810\n",
      "Data columns (total 26 columns):\n",
      " #   Column    Non-Null Count  Dtype  \n",
      "---  ------    --------------  -----  \n",
      " 0   IDfg      4827 non-null   int64  \n",
      " 1   Season    4827 non-null   int64  \n",
      " 2   Name      4827 non-null   object \n",
      " 3   Age       4827 non-null   int64  \n",
      " 4   PA        4827 non-null   int64  \n",
      " 5   H         4827 non-null   int64  \n",
      " 6   HR        4827 non-null   int64  \n",
      " 7   R         4827 non-null   int64  \n",
      " 8   RBI       4827 non-null   int64  \n",
      " 9   SB        4827 non-null   int64  \n",
      " 10  BB        4827 non-null   int64  \n",
      " 11  SO        4827 non-null   int64  \n",
      " 12  AVG       4827 non-null   float64\n",
      " 13  OBP       4827 non-null   float64\n",
      " 14  SLG       4827 non-null   float64\n",
      " 15  OPS       4827 non-null   float64\n",
      " 16  wOBA      4827 non-null   float64\n",
      " 17  WAR       4827 non-null   float64\n",
      " 18  BABIP     4827 non-null   float64\n",
      " 19  LD%       4827 non-null   float64\n",
      " 20  GB%       4827 non-null   float64\n",
      " 21  Contact%  4827 non-null   float64\n",
      " 22  SwStr%    4827 non-null   float64\n",
      " 23  Barrel%   4268 non-null   float64\n",
      " 24  EV        4268 non-null   float64\n",
      " 25  maxEV     4268 non-null   float64\n",
      "dtypes: float64(14), int64(11), object(1)\n",
      "memory usage: 1018.2+ KB\n"
     ]
    }
   ],
   "source": [
    "data.info()\n"
   ]
  },
  {
   "cell_type": "markdown",
   "metadata": {},
   "source": [
    "### Cleaning data"
   ]
  },
  {
   "cell_type": "code",
   "execution_count": 6,
   "metadata": {},
   "outputs": [
    {
     "name": "stdout",
     "output_type": "stream",
     "text": [
      "Total number of players who meet the criteria: 376\n"
     ]
    }
   ],
   "source": [
    "# Filtering data\n",
    "players_2021_2022 = data[(data['Season'] == 2021) | (data['Season'] == 2022)]['IDfg'].unique()\n",
    "data_active_players = data[data['IDfg'].isin(players_2021_2022)]\n",
    "\n",
    "# Number of season by player\n",
    "season_per_players = data_active_players['IDfg'].value_counts()\n",
    "\n",
    "# Players with 4 or more seasons\n",
    "players_with_4_or_more_seasons = season_per_players[season_per_players >= 4].index\n",
    "\n",
    "# Filter data for analysis\n",
    "data_for_anlysis = data_active_players[data_active_players['IDfg'].isin(players_with_4_or_more_seasons)]\n",
    "\n",
    "print(f\"Total number of players who meet the criteria: {len(players_with_4_or_more_seasons)}\")\n"
   ]
  },
  {
   "cell_type": "code",
   "execution_count": 7,
   "metadata": {},
   "outputs": [
    {
     "data": {
      "text/html": [
       "<div>\n",
       "<style scoped>\n",
       "    .dataframe tbody tr th:only-of-type {\n",
       "        vertical-align: middle;\n",
       "    }\n",
       "\n",
       "    .dataframe tbody tr th {\n",
       "        vertical-align: top;\n",
       "    }\n",
       "\n",
       "    .dataframe thead th {\n",
       "        text-align: right;\n",
       "    }\n",
       "</style>\n",
       "<table border=\"1\" class=\"dataframe\">\n",
       "  <thead>\n",
       "    <tr style=\"text-align: right;\">\n",
       "      <th></th>\n",
       "      <th>Name</th>\n",
       "      <th>Season</th>\n",
       "      <th>H</th>\n",
       "    </tr>\n",
       "  </thead>\n",
       "  <tbody>\n",
       "    <tr>\n",
       "      <th>560</th>\n",
       "      <td>A.J. Pollock</td>\n",
       "      <td>2021</td>\n",
       "      <td>114</td>\n",
       "    </tr>\n",
       "    <tr>\n",
       "      <th>39</th>\n",
       "      <td>A.J. Pollock</td>\n",
       "      <td>2015</td>\n",
       "      <td>192</td>\n",
       "    </tr>\n",
       "    <tr>\n",
       "      <th>924</th>\n",
       "      <td>A.J. Pollock</td>\n",
       "      <td>2018</td>\n",
       "      <td>106</td>\n",
       "    </tr>\n",
       "    <tr>\n",
       "      <th>1154</th>\n",
       "      <td>A.J. Pollock</td>\n",
       "      <td>2017</td>\n",
       "      <td>113</td>\n",
       "    </tr>\n",
       "    <tr>\n",
       "      <th>2577</th>\n",
       "      <td>A.J. Pollock</td>\n",
       "      <td>2022</td>\n",
       "      <td>120</td>\n",
       "    </tr>\n",
       "    <tr>\n",
       "      <th>...</th>\n",
       "      <td>...</td>\n",
       "      <td>...</td>\n",
       "      <td>...</td>\n",
       "    </tr>\n",
       "    <tr>\n",
       "      <th>343</th>\n",
       "      <td>Yuli Gurriel</td>\n",
       "      <td>2019</td>\n",
       "      <td>168</td>\n",
       "    </tr>\n",
       "    <tr>\n",
       "      <th>2321</th>\n",
       "      <td>Zack Wheeler</td>\n",
       "      <td>2019</td>\n",
       "      <td>12</td>\n",
       "    </tr>\n",
       "    <tr>\n",
       "      <th>2817</th>\n",
       "      <td>Zack Wheeler</td>\n",
       "      <td>2018</td>\n",
       "      <td>11</td>\n",
       "    </tr>\n",
       "    <tr>\n",
       "      <th>3865</th>\n",
       "      <td>Zack Wheeler</td>\n",
       "      <td>2014</td>\n",
       "      <td>4</td>\n",
       "    </tr>\n",
       "    <tr>\n",
       "      <th>3226</th>\n",
       "      <td>Zack Wheeler</td>\n",
       "      <td>2021</td>\n",
       "      <td>11</td>\n",
       "    </tr>\n",
       "  </tbody>\n",
       "</table>\n",
       "<p>2450 rows × 3 columns</p>\n",
       "</div>"
      ],
      "text/plain": [
       "              Name  Season    H\n",
       "560   A.J. Pollock    2021  114\n",
       "39    A.J. Pollock    2015  192\n",
       "924   A.J. Pollock    2018  106\n",
       "1154  A.J. Pollock    2017  113\n",
       "2577  A.J. Pollock    2022  120\n",
       "...            ...     ...  ...\n",
       "343   Yuli Gurriel    2019  168\n",
       "2321  Zack Wheeler    2019   12\n",
       "2817  Zack Wheeler    2018   11\n",
       "3865  Zack Wheeler    2014    4\n",
       "3226  Zack Wheeler    2021   11\n",
       "\n",
       "[2450 rows x 3 columns]"
      ]
     },
     "execution_count": 7,
     "metadata": {},
     "output_type": "execute_result"
    }
   ],
   "source": [
    "# Show players names and hits by season, sort by players names\n",
    "data_for_anlysis[['Name', 'Season', 'H']].sort_values(by='Name')"
   ]
  },
  {
   "cell_type": "code",
   "execution_count": 8,
   "metadata": {},
   "outputs": [
    {
     "data": {
      "text/plain": [
       "Name\n",
       "Brandon Belt       9\n",
       "Jason Castro       9\n",
       "Kole Calhoun       9\n",
       "Cesar Hernandez    9\n",
       "Kolten Wong        9\n",
       "                  ..\n",
       "Kyle Lewis         4\n",
       "Renato Nunez       4\n",
       "Cam Gallagher      4\n",
       "Luis Arraez        4\n",
       "Zack Wheeler       4\n",
       "Name: count, Length: 376, dtype: int64"
      ]
     },
     "execution_count": 8,
     "metadata": {},
     "output_type": "execute_result"
    }
   ],
   "source": [
    "# how many players names apear more than one season\n",
    "\n",
    "data_for_anlysis['Name'].value_counts()"
   ]
  },
  {
   "cell_type": "code",
   "execution_count": 9,
   "metadata": {},
   "outputs": [],
   "source": [
    "data = data_for_anlysis.copy()"
   ]
  },
  {
   "cell_type": "code",
   "execution_count": 10,
   "metadata": {},
   "outputs": [],
   "source": [
    "# Drop columns with missing values\n",
    "data = data.dropna(axis=1)\n",
    "\n"
   ]
  },
  {
   "cell_type": "code",
   "execution_count": 11,
   "metadata": {},
   "outputs": [],
   "source": [
    "# drop Name column\n",
    "data.drop('Name', axis=1, inplace=True)"
   ]
  },
  {
   "cell_type": "code",
   "execution_count": 12,
   "metadata": {},
   "outputs": [
    {
     "name": "stdout",
     "output_type": "stream",
     "text": [
      "<class 'pandas.core.frame.DataFrame'>\n",
      "Index: 2450 entries, 560 to 3226\n",
      "Data columns (total 22 columns):\n",
      " #   Column    Non-Null Count  Dtype  \n",
      "---  ------    --------------  -----  \n",
      " 0   IDfg      2450 non-null   int64  \n",
      " 1   Season    2450 non-null   int64  \n",
      " 2   Age       2450 non-null   int64  \n",
      " 3   PA        2450 non-null   int64  \n",
      " 4   H         2450 non-null   int64  \n",
      " 5   HR        2450 non-null   int64  \n",
      " 6   R         2450 non-null   int64  \n",
      " 7   RBI       2450 non-null   int64  \n",
      " 8   SB        2450 non-null   int64  \n",
      " 9   BB        2450 non-null   int64  \n",
      " 10  SO        2450 non-null   int64  \n",
      " 11  AVG       2450 non-null   float64\n",
      " 12  OBP       2450 non-null   float64\n",
      " 13  SLG       2450 non-null   float64\n",
      " 14  OPS       2450 non-null   float64\n",
      " 15  wOBA      2450 non-null   float64\n",
      " 16  WAR       2450 non-null   float64\n",
      " 17  BABIP     2450 non-null   float64\n",
      " 18  LD%       2450 non-null   float64\n",
      " 19  GB%       2450 non-null   float64\n",
      " 20  Contact%  2450 non-null   float64\n",
      " 21  SwStr%    2450 non-null   float64\n",
      "dtypes: float64(11), int64(11)\n",
      "memory usage: 440.2 KB\n"
     ]
    }
   ],
   "source": [
    "data.info()"
   ]
  },
  {
   "cell_type": "markdown",
   "metadata": {},
   "source": [
    "### Modeling\n",
    "\n",
    "Random Forest"
   ]
  },
  {
   "cell_type": "code",
   "execution_count": 13,
   "metadata": {},
   "outputs": [],
   "source": [
    "X = data.drop('H', axis=1)\n",
    "\n",
    "y = data['H']\n",
    "\n",
    "X_train, X_test, y_train, y_test = train_test_split(X, y, test_size=0.2, random_state=42)"
   ]
  },
  {
   "cell_type": "code",
   "execution_count": 14,
   "metadata": {},
   "outputs": [
    {
     "name": "stdout",
     "output_type": "stream",
     "text": [
      "Mean Absolute Error (MAE): 2.244857142857143\n",
      "Mean Squared Error (MSE): 11.551453061224489\n",
      "Root Mean Squared Error (RMSE): 3.398742864828772\n",
      "R^2 Score: 0.9957164515039998\n"
     ]
    }
   ],
   "source": [
    "\n",
    "# Assuming you've already created X and y by dropping and selecting the 'H' column respectively\n",
    "X_train, X_test, y_train, y_test = train_test_split(X, y, test_size=0.2, random_state=42)\n",
    "\n",
    "# Create the Random Forest Regressor instance\n",
    "rf_regressor = RandomForestRegressor(random_state=42)\n",
    "\n",
    "# Fit the model to the training data\n",
    "rf_regressor.fit(X_train, y_train)\n",
    "\n",
    "# Predict on the test set\n",
    "y_pred = rf_regressor.predict(X_test)\n",
    "\n",
    "# Evaluate the model\n",
    "mae = mean_absolute_error(y_test, y_pred)\n",
    "mse = mean_squared_error(y_test, y_pred)\n",
    "rmse = np.sqrt(mse)\n",
    "r2 = r2_score(y_test, y_pred)\n",
    "\n",
    "print(f\"Mean Absolute Error (MAE): {mae}\")\n",
    "print(f\"Mean Squared Error (MSE): {mse}\")\n",
    "print(f\"Root Mean Squared Error (RMSE): {rmse}\")\n",
    "print(f\"R^2 Score: {r2}\")"
   ]
  },
  {
   "cell_type": "code",
   "execution_count": 15,
   "metadata": {},
   "outputs": [
    {
     "name": "stdout",
     "output_type": "stream",
     "text": [
      "PA          0.945665\n",
      "AVG         0.048218\n",
      "BB          0.001637\n",
      "OBP         0.000581\n",
      "BABIP       0.000395\n",
      "Contact%    0.000299\n",
      "SB          0.000285\n",
      "LD%         0.000258\n",
      "GB%         0.000255\n",
      "SO          0.000251\n",
      "IDfg        0.000251\n",
      "WAR         0.000239\n",
      "RBI         0.000227\n",
      "R           0.000224\n",
      "Age         0.000209\n",
      "OPS         0.000206\n",
      "SwStr%      0.000199\n",
      "wOBA        0.000175\n",
      "SLG         0.000158\n",
      "HR          0.000139\n",
      "Season      0.000131\n",
      "dtype: float64\n"
     ]
    }
   ],
   "source": [
    "# Assuming 'rf_regressor' is your fitted Random Forest model\n",
    "feature_importances = rf_regressor.feature_importances_\n",
    "\n",
    "# Create a pandas Series for easier plotting, using the feature names as the index\n",
    "features = pd.Series(feature_importances, index=X_train.columns)\n",
    "\n",
    "# Sort the features by importance\n",
    "features_sorted = features.sort_values(ascending=False)\n",
    "\n",
    "# print features with importance score\n",
    "print(features_sorted)\n"
   ]
  },
  {
   "cell_type": "markdown",
   "metadata": {},
   "source": [
    "#### PA is overwhelming other signals in a model\n",
    "\n",
    "Solutions:\n",
    "- Normalize Hits by PA: Instead of removing PA, consider modeling hits per plate appearance (H/PA) \n",
    "- Feature Engineering: Create features that combine PA with other metrics. For instance, hits per contact or normalize other performance metrics by PA to capture how effectively players use their opportunities.\n",
    "- Use PA as a Weight: In some modeling approaches, we can use PA as a weight rather than a feature. This way, the model gives more importance to observations with more plate appearances, acknowledging that more data points could lead to a more reliable measurement of a player's hitting ability."
   ]
  },
  {
   "cell_type": "markdown",
   "metadata": {},
   "source": [
    "### Utilize Efficiency in Total Hits Prediction"
   ]
  },
  {
   "cell_type": "code",
   "execution_count": 16,
   "metadata": {},
   "outputs": [
    {
     "name": "stdout",
     "output_type": "stream",
     "text": [
      "<class 'pandas.core.frame.DataFrame'>\n",
      "Index: 2450 entries, 560 to 3226\n",
      "Data columns (total 22 columns):\n",
      " #   Column    Non-Null Count  Dtype  \n",
      "---  ------    --------------  -----  \n",
      " 0   IDfg      2450 non-null   int64  \n",
      " 1   Season    2450 non-null   int64  \n",
      " 2   Age       2450 non-null   int64  \n",
      " 3   PA        2450 non-null   int64  \n",
      " 4   H         2450 non-null   int64  \n",
      " 5   HR        2450 non-null   int64  \n",
      " 6   R         2450 non-null   int64  \n",
      " 7   RBI       2450 non-null   int64  \n",
      " 8   SB        2450 non-null   int64  \n",
      " 9   BB        2450 non-null   int64  \n",
      " 10  SO        2450 non-null   int64  \n",
      " 11  AVG       2450 non-null   float64\n",
      " 12  OBP       2450 non-null   float64\n",
      " 13  SLG       2450 non-null   float64\n",
      " 14  OPS       2450 non-null   float64\n",
      " 15  wOBA      2450 non-null   float64\n",
      " 16  WAR       2450 non-null   float64\n",
      " 17  BABIP     2450 non-null   float64\n",
      " 18  LD%       2450 non-null   float64\n",
      " 19  GB%       2450 non-null   float64\n",
      " 20  Contact%  2450 non-null   float64\n",
      " 21  SwStr%    2450 non-null   float64\n",
      "dtypes: float64(11), int64(11)\n",
      "memory usage: 440.2 KB\n"
     ]
    }
   ],
   "source": [
    "data.info()\n"
   ]
  },
  {
   "cell_type": "code",
   "execution_count": 17,
   "metadata": {},
   "outputs": [],
   "source": [
    "# Pravilno kreiranje trening i test setova sa .copy()\n",
    "train_data = data[data['Season'] <= 2020].copy()\n",
    "test_data = data[data['Season'] >= 2021].copy()\n",
    "\n"
   ]
  },
  {
   "cell_type": "markdown",
   "metadata": {},
   "source": [
    "### Model Hitting Efficiency: \n",
    " Use Random Forest model to predict H/PA \n",
    " based on  players' attributes, historical performance data, \n",
    " and possibly team or season factors that might influence a player's opportunities and performance."
   ]
  },
  {
   "cell_type": "code",
   "execution_count": 18,
   "metadata": {},
   "outputs": [],
   "source": [
    "# Bezbedno izračunavanje H/PA za trening set koristeći .loc\n",
    "train_data.loc[:, 'H_PA'] = train_data['H'] / train_data['PA']\n",
    "\n",
    "# Bezbedno izračunavanje H/PA za test set koristeći .loc\n",
    "test_data.loc[:, 'H_PA'] = test_data['H'] / test_data['PA']\n"
   ]
  },
  {
   "cell_type": "code",
   "execution_count": 19,
   "metadata": {},
   "outputs": [],
   "source": [
    "X_train_hpa = train_data.drop(['H', 'PA', 'H_PA'], axis=1)  # Izuzmite ciljne varijable i direktne prediktore\n",
    "y_train_hpa = train_data['H_PA']  # Ciljna varijabla za trening set\n",
    "\n",
    "X_test_hpa = test_data.drop(['H', 'PA', 'H_PA'], axis=1)  # Izuzmite ciljne varijable i direktne prediktore za test set\n",
    "y_test_hpa = test_data['H_PA']  # Ciljna varijabla za test set\n"
   ]
  },
  {
   "cell_type": "code",
   "execution_count": 20,
   "metadata": {},
   "outputs": [
    {
     "data": {
      "text/html": [
       "<style>#sk-container-id-1 {color: black;background-color: white;}#sk-container-id-1 pre{padding: 0;}#sk-container-id-1 div.sk-toggleable {background-color: white;}#sk-container-id-1 label.sk-toggleable__label {cursor: pointer;display: block;width: 100%;margin-bottom: 0;padding: 0.3em;box-sizing: border-box;text-align: center;}#sk-container-id-1 label.sk-toggleable__label-arrow:before {content: \"▸\";float: left;margin-right: 0.25em;color: #696969;}#sk-container-id-1 label.sk-toggleable__label-arrow:hover:before {color: black;}#sk-container-id-1 div.sk-estimator:hover label.sk-toggleable__label-arrow:before {color: black;}#sk-container-id-1 div.sk-toggleable__content {max-height: 0;max-width: 0;overflow: hidden;text-align: left;background-color: #f0f8ff;}#sk-container-id-1 div.sk-toggleable__content pre {margin: 0.2em;color: black;border-radius: 0.25em;background-color: #f0f8ff;}#sk-container-id-1 input.sk-toggleable__control:checked~div.sk-toggleable__content {max-height: 200px;max-width: 100%;overflow: auto;}#sk-container-id-1 input.sk-toggleable__control:checked~label.sk-toggleable__label-arrow:before {content: \"▾\";}#sk-container-id-1 div.sk-estimator input.sk-toggleable__control:checked~label.sk-toggleable__label {background-color: #d4ebff;}#sk-container-id-1 div.sk-label input.sk-toggleable__control:checked~label.sk-toggleable__label {background-color: #d4ebff;}#sk-container-id-1 input.sk-hidden--visually {border: 0;clip: rect(1px 1px 1px 1px);clip: rect(1px, 1px, 1px, 1px);height: 1px;margin: -1px;overflow: hidden;padding: 0;position: absolute;width: 1px;}#sk-container-id-1 div.sk-estimator {font-family: monospace;background-color: #f0f8ff;border: 1px dotted black;border-radius: 0.25em;box-sizing: border-box;margin-bottom: 0.5em;}#sk-container-id-1 div.sk-estimator:hover {background-color: #d4ebff;}#sk-container-id-1 div.sk-parallel-item::after {content: \"\";width: 100%;border-bottom: 1px solid gray;flex-grow: 1;}#sk-container-id-1 div.sk-label:hover label.sk-toggleable__label {background-color: #d4ebff;}#sk-container-id-1 div.sk-serial::before {content: \"\";position: absolute;border-left: 1px solid gray;box-sizing: border-box;top: 0;bottom: 0;left: 50%;z-index: 0;}#sk-container-id-1 div.sk-serial {display: flex;flex-direction: column;align-items: center;background-color: white;padding-right: 0.2em;padding-left: 0.2em;position: relative;}#sk-container-id-1 div.sk-item {position: relative;z-index: 1;}#sk-container-id-1 div.sk-parallel {display: flex;align-items: stretch;justify-content: center;background-color: white;position: relative;}#sk-container-id-1 div.sk-item::before, #sk-container-id-1 div.sk-parallel-item::before {content: \"\";position: absolute;border-left: 1px solid gray;box-sizing: border-box;top: 0;bottom: 0;left: 50%;z-index: -1;}#sk-container-id-1 div.sk-parallel-item {display: flex;flex-direction: column;z-index: 1;position: relative;background-color: white;}#sk-container-id-1 div.sk-parallel-item:first-child::after {align-self: flex-end;width: 50%;}#sk-container-id-1 div.sk-parallel-item:last-child::after {align-self: flex-start;width: 50%;}#sk-container-id-1 div.sk-parallel-item:only-child::after {width: 0;}#sk-container-id-1 div.sk-dashed-wrapped {border: 1px dashed gray;margin: 0 0.4em 0.5em 0.4em;box-sizing: border-box;padding-bottom: 0.4em;background-color: white;}#sk-container-id-1 div.sk-label label {font-family: monospace;font-weight: bold;display: inline-block;line-height: 1.2em;}#sk-container-id-1 div.sk-label-container {text-align: center;}#sk-container-id-1 div.sk-container {/* jupyter's `normalize.less` sets `[hidden] { display: none; }` but bootstrap.min.css set `[hidden] { display: none !important; }` so we also need the `!important` here to be able to override the default hidden behavior on the sphinx rendered scikit-learn.org. See: https://github.com/scikit-learn/scikit-learn/issues/21755 */display: inline-block !important;position: relative;}#sk-container-id-1 div.sk-text-repr-fallback {display: none;}</style><div id=\"sk-container-id-1\" class=\"sk-top-container\"><div class=\"sk-text-repr-fallback\"><pre>RandomForestRegressor(random_state=42)</pre><b>In a Jupyter environment, please rerun this cell to show the HTML representation or trust the notebook. <br />On GitHub, the HTML representation is unable to render, please try loading this page with nbviewer.org.</b></div><div class=\"sk-container\" hidden><div class=\"sk-item\"><div class=\"sk-estimator sk-toggleable\"><input class=\"sk-toggleable__control sk-hidden--visually\" id=\"sk-estimator-id-1\" type=\"checkbox\" checked><label for=\"sk-estimator-id-1\" class=\"sk-toggleable__label sk-toggleable__label-arrow\">RandomForestRegressor</label><div class=\"sk-toggleable__content\"><pre>RandomForestRegressor(random_state=42)</pre></div></div></div></div></div>"
      ],
      "text/plain": [
       "RandomForestRegressor(random_state=42)"
      ]
     },
     "execution_count": 20,
     "metadata": {},
     "output_type": "execute_result"
    }
   ],
   "source": [
    "# Treniranje modela za H/PA\n",
    "model_hpa = RandomForestRegressor(n_estimators=100, random_state=42)\n",
    "model_hpa.fit(X_train_hpa, y_train_hpa)"
   ]
  },
  {
   "cell_type": "code",
   "execution_count": 21,
   "metadata": {},
   "outputs": [],
   "source": [
    "# Predikcije i evaluacija za H/PA model\n",
    "y_pred_hpa = model_hpa.predict(X_test_hpa)\n",
    "mse_hpa = mean_squared_error(y_test_hpa, y_pred_hpa)\n",
    "r2_hpa = r2_score(y_test_hpa, y_pred_hpa)"
   ]
  },
  {
   "cell_type": "code",
   "execution_count": 22,
   "metadata": {},
   "outputs": [
    {
     "name": "stdout",
     "output_type": "stream",
     "text": [
      "Model H/PA - MSE: 1.5032911691776373e-05, R^2: 0.9901185721393441\n"
     ]
    }
   ],
   "source": [
    "\n",
    "print(f'Model H/PA - MSE: {mse_hpa}, R^2: {r2_hpa}')"
   ]
  },
  {
   "cell_type": "code",
   "execution_count": 23,
   "metadata": {},
   "outputs": [],
   "source": [
    "# Predviđanja H/PA koristeći model_hpa\n",
    "predicted_hpa = model_hpa.predict(X_test_hpa)\n",
    "\n",
    "# Kreiranje DataFrame-a za predviđena H/PA\n",
    "predicted_H_PA_df = pd.DataFrame({\n",
    "    'IDfg': X_test_hpa['IDfg'],\n",
    "    'predicted_H_PA': predicted_hpa\n",
    "})\n"
   ]
  },
  {
   "cell_type": "markdown",
   "metadata": {},
   "source": [
    "### Estimate PAs: \n",
    " For future total hits prediction, estimate the number of PAs a player is likely to have in the upcoming season.\n",
    " This estimation could be based on historical trends, player's role on the team, expert analysis, \n",
    " tailored to forecast PAs."
   ]
  },
  {
   "cell_type": "code",
   "execution_count": 24,
   "metadata": {},
   "outputs": [],
   "source": [
    "# preparing the training and testing data for a machine learning model to predict PA\n",
    "X_train_pa = train_data.drop(['PA', 'H', 'H_PA'], axis=1)  \n",
    "y_train_pa = train_data['PA']  \n",
    "\n",
    "X_test_pa = test_data.drop(['PA', 'H', 'H_PA'], axis=1)  \n",
    "y_test_pa = test_data['PA']  \n"
   ]
  },
  {
   "cell_type": "code",
   "execution_count": 25,
   "metadata": {},
   "outputs": [
    {
     "data": {
      "text/html": [
       "<style>#sk-container-id-2 {color: black;background-color: white;}#sk-container-id-2 pre{padding: 0;}#sk-container-id-2 div.sk-toggleable {background-color: white;}#sk-container-id-2 label.sk-toggleable__label {cursor: pointer;display: block;width: 100%;margin-bottom: 0;padding: 0.3em;box-sizing: border-box;text-align: center;}#sk-container-id-2 label.sk-toggleable__label-arrow:before {content: \"▸\";float: left;margin-right: 0.25em;color: #696969;}#sk-container-id-2 label.sk-toggleable__label-arrow:hover:before {color: black;}#sk-container-id-2 div.sk-estimator:hover label.sk-toggleable__label-arrow:before {color: black;}#sk-container-id-2 div.sk-toggleable__content {max-height: 0;max-width: 0;overflow: hidden;text-align: left;background-color: #f0f8ff;}#sk-container-id-2 div.sk-toggleable__content pre {margin: 0.2em;color: black;border-radius: 0.25em;background-color: #f0f8ff;}#sk-container-id-2 input.sk-toggleable__control:checked~div.sk-toggleable__content {max-height: 200px;max-width: 100%;overflow: auto;}#sk-container-id-2 input.sk-toggleable__control:checked~label.sk-toggleable__label-arrow:before {content: \"▾\";}#sk-container-id-2 div.sk-estimator input.sk-toggleable__control:checked~label.sk-toggleable__label {background-color: #d4ebff;}#sk-container-id-2 div.sk-label input.sk-toggleable__control:checked~label.sk-toggleable__label {background-color: #d4ebff;}#sk-container-id-2 input.sk-hidden--visually {border: 0;clip: rect(1px 1px 1px 1px);clip: rect(1px, 1px, 1px, 1px);height: 1px;margin: -1px;overflow: hidden;padding: 0;position: absolute;width: 1px;}#sk-container-id-2 div.sk-estimator {font-family: monospace;background-color: #f0f8ff;border: 1px dotted black;border-radius: 0.25em;box-sizing: border-box;margin-bottom: 0.5em;}#sk-container-id-2 div.sk-estimator:hover {background-color: #d4ebff;}#sk-container-id-2 div.sk-parallel-item::after {content: \"\";width: 100%;border-bottom: 1px solid gray;flex-grow: 1;}#sk-container-id-2 div.sk-label:hover label.sk-toggleable__label {background-color: #d4ebff;}#sk-container-id-2 div.sk-serial::before {content: \"\";position: absolute;border-left: 1px solid gray;box-sizing: border-box;top: 0;bottom: 0;left: 50%;z-index: 0;}#sk-container-id-2 div.sk-serial {display: flex;flex-direction: column;align-items: center;background-color: white;padding-right: 0.2em;padding-left: 0.2em;position: relative;}#sk-container-id-2 div.sk-item {position: relative;z-index: 1;}#sk-container-id-2 div.sk-parallel {display: flex;align-items: stretch;justify-content: center;background-color: white;position: relative;}#sk-container-id-2 div.sk-item::before, #sk-container-id-2 div.sk-parallel-item::before {content: \"\";position: absolute;border-left: 1px solid gray;box-sizing: border-box;top: 0;bottom: 0;left: 50%;z-index: -1;}#sk-container-id-2 div.sk-parallel-item {display: flex;flex-direction: column;z-index: 1;position: relative;background-color: white;}#sk-container-id-2 div.sk-parallel-item:first-child::after {align-self: flex-end;width: 50%;}#sk-container-id-2 div.sk-parallel-item:last-child::after {align-self: flex-start;width: 50%;}#sk-container-id-2 div.sk-parallel-item:only-child::after {width: 0;}#sk-container-id-2 div.sk-dashed-wrapped {border: 1px dashed gray;margin: 0 0.4em 0.5em 0.4em;box-sizing: border-box;padding-bottom: 0.4em;background-color: white;}#sk-container-id-2 div.sk-label label {font-family: monospace;font-weight: bold;display: inline-block;line-height: 1.2em;}#sk-container-id-2 div.sk-label-container {text-align: center;}#sk-container-id-2 div.sk-container {/* jupyter's `normalize.less` sets `[hidden] { display: none; }` but bootstrap.min.css set `[hidden] { display: none !important; }` so we also need the `!important` here to be able to override the default hidden behavior on the sphinx rendered scikit-learn.org. See: https://github.com/scikit-learn/scikit-learn/issues/21755 */display: inline-block !important;position: relative;}#sk-container-id-2 div.sk-text-repr-fallback {display: none;}</style><div id=\"sk-container-id-2\" class=\"sk-top-container\"><div class=\"sk-text-repr-fallback\"><pre>RandomForestRegressor(random_state=42)</pre><b>In a Jupyter environment, please rerun this cell to show the HTML representation or trust the notebook. <br />On GitHub, the HTML representation is unable to render, please try loading this page with nbviewer.org.</b></div><div class=\"sk-container\" hidden><div class=\"sk-item\"><div class=\"sk-estimator sk-toggleable\"><input class=\"sk-toggleable__control sk-hidden--visually\" id=\"sk-estimator-id-2\" type=\"checkbox\" checked><label for=\"sk-estimator-id-2\" class=\"sk-toggleable__label sk-toggleable__label-arrow\">RandomForestRegressor</label><div class=\"sk-toggleable__content\"><pre>RandomForestRegressor(random_state=42)</pre></div></div></div></div></div>"
      ],
      "text/plain": [
       "RandomForestRegressor(random_state=42)"
      ]
     },
     "execution_count": 25,
     "metadata": {},
     "output_type": "execute_result"
    }
   ],
   "source": [
    "# Train the model\n",
    "model_pa = RandomForestRegressor(n_estimators=100, random_state=42)\n",
    "model_pa.fit(X_train_pa, y_train_pa)"
   ]
  },
  {
   "cell_type": "code",
   "execution_count": 26,
   "metadata": {},
   "outputs": [],
   "source": [
    "# Prediction and evaluation for PA model\n",
    "y_pred_pa = model_pa.predict(X_test_pa)\n",
    "mse_pa = mean_squared_error(y_test_pa, y_pred_pa)\n",
    "r2_pa = r2_score(y_test_pa, y_pred_pa)"
   ]
  },
  {
   "cell_type": "code",
   "execution_count": 27,
   "metadata": {},
   "outputs": [
    {
     "name": "stdout",
     "output_type": "stream",
     "text": [
      "Model PA - MSE: 1643.2452359765052, R^2: 0.9541894406933964\n"
     ]
    }
   ],
   "source": [
    "print(f'Model PA - MSE: {mse_pa}, R^2: {r2_pa}')"
   ]
  },
  {
   "cell_type": "code",
   "execution_count": 28,
   "metadata": {},
   "outputs": [],
   "source": [
    "# Predviđanja PA koristeći model_pa\n",
    "predicted_pa = model_pa.predict(X_test_pa)\n",
    "\n",
    "# Kreiranje DataFrame-a za predviđena PA\n",
    "predicted_PA_df = pd.DataFrame({\n",
    "    'IDfg': X_test_pa['IDfg'],\n",
    "    'predicted_PA': predicted_pa\n",
    "})"
   ]
  },
  {
   "cell_type": "code",
   "execution_count": 29,
   "metadata": {},
   "outputs": [],
   "source": [
    "# Merge the predicted values with the original test data\n",
    "combined_predictions_df = pd.merge(predicted_H_PA_df, predicted_PA_df, on='IDfg')\n"
   ]
  },
  {
   "cell_type": "markdown",
   "metadata": {},
   "source": [
    "### Calculate Total Hits: "
   ]
  },
  {
   "cell_type": "code",
   "execution_count": 30,
   "metadata": {},
   "outputs": [],
   "source": [
    "\n",
    "# Multiply efficiency prediction (H/PA) by PA estimate to get the projected total hits for the season.\n",
    "\n",
    "predicted_hits = y_pred_hpa * y_pred_pa\n"
   ]
  },
  {
   "cell_type": "code",
   "execution_count": 31,
   "metadata": {},
   "outputs": [],
   "source": [
    "# Create a DataFrame with the player ID and the predicted hits\n",
    "predicted_hits_df = pd.DataFrame({\n",
    "    'IDfg': X_test_pa['IDfg'].reset_index(drop=True),\n",
    "    'predicted_hits': predicted_hits\n",
    "})\n"
   ]
  },
  {
   "cell_type": "code",
   "execution_count": 32,
   "metadata": {},
   "outputs": [
    {
     "data": {
      "text/html": [
       "<div>\n",
       "<style scoped>\n",
       "    .dataframe tbody tr th:only-of-type {\n",
       "        vertical-align: middle;\n",
       "    }\n",
       "\n",
       "    .dataframe tbody tr th {\n",
       "        vertical-align: top;\n",
       "    }\n",
       "\n",
       "    .dataframe thead th {\n",
       "        text-align: right;\n",
       "    }\n",
       "</style>\n",
       "<table border=\"1\" class=\"dataframe\">\n",
       "  <thead>\n",
       "    <tr style=\"text-align: right;\">\n",
       "      <th></th>\n",
       "      <th>IDfg</th>\n",
       "      <th>predicted_hits</th>\n",
       "    </tr>\n",
       "  </thead>\n",
       "  <tbody>\n",
       "    <tr>\n",
       "      <th>0</th>\n",
       "      <td>9256</td>\n",
       "      <td>108.453502</td>\n",
       "    </tr>\n",
       "    <tr>\n",
       "      <th>1</th>\n",
       "      <td>9256</td>\n",
       "      <td>119.573450</td>\n",
       "    </tr>\n",
       "    <tr>\n",
       "      <th>2</th>\n",
       "      <td>5297</td>\n",
       "      <td>82.693159</td>\n",
       "    </tr>\n",
       "    <tr>\n",
       "      <th>3</th>\n",
       "      <td>5297</td>\n",
       "      <td>23.003948</td>\n",
       "    </tr>\n",
       "    <tr>\n",
       "      <th>4</th>\n",
       "      <td>15640</td>\n",
       "      <td>159.352525</td>\n",
       "    </tr>\n",
       "    <tr>\n",
       "      <th>...</th>\n",
       "      <td>...</td>\n",
       "      <td>...</td>\n",
       "    </tr>\n",
       "    <tr>\n",
       "      <th>676</th>\n",
       "      <td>17232</td>\n",
       "      <td>71.596237</td>\n",
       "    </tr>\n",
       "    <tr>\n",
       "      <th>677</th>\n",
       "      <td>17232</td>\n",
       "      <td>127.164415</td>\n",
       "    </tr>\n",
       "    <tr>\n",
       "      <th>678</th>\n",
       "      <td>19198</td>\n",
       "      <td>171.512782</td>\n",
       "    </tr>\n",
       "    <tr>\n",
       "      <th>679</th>\n",
       "      <td>19198</td>\n",
       "      <td>114.671193</td>\n",
       "    </tr>\n",
       "    <tr>\n",
       "      <th>680</th>\n",
       "      <td>10310</td>\n",
       "      <td>10.183352</td>\n",
       "    </tr>\n",
       "  </tbody>\n",
       "</table>\n",
       "<p>681 rows × 2 columns</p>\n",
       "</div>"
      ],
      "text/plain": [
       "      IDfg  predicted_hits\n",
       "0     9256      108.453502\n",
       "1     9256      119.573450\n",
       "2     5297       82.693159\n",
       "3     5297       23.003948\n",
       "4    15640      159.352525\n",
       "..     ...             ...\n",
       "676  17232       71.596237\n",
       "677  17232      127.164415\n",
       "678  19198      171.512782\n",
       "679  19198      114.671193\n",
       "680  10310       10.183352\n",
       "\n",
       "[681 rows x 2 columns]"
      ]
     },
     "execution_count": 32,
     "metadata": {},
     "output_type": "execute_result"
    }
   ],
   "source": [
    "predicted_hits_df"
   ]
  },
  {
   "cell_type": "markdown",
   "metadata": {},
   "source": [
    "### Validation and Adjustment: \n",
    " Validate approach by comparing total hits predictions against actual outcomes for past seasons, \n",
    " adjusting methods for estimating PAs or refining the efficiency model as necessary."
   ]
  },
  {
   "cell_type": "code",
   "execution_count": 33,
   "metadata": {},
   "outputs": [],
   "source": [
    "# Merge the predicted hits with the actual hits\n",
    "predicted_hits_df['actual_hits'] = test_data['H'].reset_index(drop=True)\n"
   ]
  },
  {
   "cell_type": "code",
   "execution_count": 34,
   "metadata": {},
   "outputs": [
    {
     "name": "stdout",
     "output_type": "stream",
     "text": [
      "MAE: 6.837940621082179, MSE: 82.52223398592399, R^2: 0.9646028167689213\n"
     ]
    }
   ],
   "source": [
    "from sklearn.metrics import mean_absolute_error, mean_squared_error, r2_score\n",
    "\n",
    "mae = mean_absolute_error(predicted_hits_df['actual_hits'], predicted_hits_df['predicted_hits'])\n",
    "mse = mean_squared_error(predicted_hits_df['actual_hits'], predicted_hits_df['predicted_hits'])\n",
    "r2 = r2_score(predicted_hits_df['actual_hits'], predicted_hits_df['predicted_hits'])\n",
    "\n",
    "print(f'MAE: {mae}, MSE: {mse}, R^2: {r2}')\n"
   ]
  },
  {
   "cell_type": "markdown",
   "metadata": {},
   "source": [
    "Mean Absolute Error (MAE): 6.838 \n",
    "- this level of error suggests that the model's predictions are relatively close to the actual numbers, but there's still room for improvement, especially if the average number of hits is not significantly high.\n",
    "\n",
    "Mean Squared Error (MSE): 82.522 \n",
    "- the MSE indicates that there are instances of significant discrepancy between the predicted and actual hits.\n",
    "\n",
    "R-squared (R^2): 0.965 \n",
    "- approximately 96.5% of the variation in the actual number of hits is explained by the model's inputs. This is a very high value, suggesting that the model is very effective at capturing the relationship between the player's characteristics and their performance in terms of hits. However, it's important to note that a high R^2 alone does not indicate perfect prediction accuracy, as it does not account for the magnitude of errors.\n",
    "\n",
    "##### Conclusion\n",
    "Overall, these metrics indicate that the model is quite effective at predicting the total number of hits for players in the upcoming season, with a high R^2 value suggesting strong explanatory power. However, the MAE and MSE values suggest that there are still differences between the predicted and actual values, with some predictions likely being significantly off. This discrepancy may be due to outliers, specific cases not well-handled by the model, or missing factors that could improve the model's accuracy. Further analysis and model refinement could focus on reducing these errors for even more precise predictions."
   ]
  },
  {
   "cell_type": "code",
   "execution_count": 35,
   "metadata": {},
   "outputs": [
    {
     "data": {
      "image/png": "[encoded data removed]",
      "text/plain": [
       "<Figure size 1000x600 with 1 Axes>"
      ]
     },
     "metadata": {},
     "output_type": "display_data"
    }
   ],
   "source": [
    "import matplotlib.pyplot as plt\n",
    "\n",
    "plt.figure(figsize=(10, 6))\n",
    "plt.scatter(predicted_hits_df['actual_hits'], predicted_hits_df['predicted_hits'], alpha=0.5)\n",
    "plt.plot([predicted_hits_df['actual_hits'].min(), predicted_hits_df['actual_hits'].max()], [predicted_hits_df['actual_hits'].min(), predicted_hits_df['actual_hits'].max()], 'k--', lw=2)\n",
    "plt.xlabel('Actual Hits')\n",
    "plt.ylabel('Predicted Hits')\n",
    "plt.title('Actual vs. Predicted Hits')\n",
    "plt.show()\n"
   ]
  }
 ],
 "metadata": {
  "kernelspec": {
   "display_name": "base",
   "language": "python",
   "name": "python3"
  },
  "language_info": {
   "codemirror_mode": {
    "name": "ipython",
    "version": 3
   },
   "file_extension": ".py",
   "mimetype": "text/x-python",
   "name": "python",
   "nbconvert_exporter": "python",
   "pygments_lexer": "ipython3",
   "version": "3.11.7"
  }
 },
 "nbformat": 4,
 "nbformat_minor": 2
}
