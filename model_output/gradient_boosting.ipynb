{
 "cells": [
  {
   "cell_type": "code",
   "execution_count": 1,
   "metadata": {},
   "outputs": [],
   "source": [
    "# Uvoz potrebnih biblioteka\n",
    "import pandas as pd\n",
    "from sklearn.model_selection import train_test_split\n",
    "from sklearn.ensemble import GradientBoostingRegressor\n",
    "from sklearn.metrics import mean_squared_error, r2_score, mean_absolute_error"
   ]
  },
  {
   "cell_type": "code",
   "execution_count": 3,
   "metadata": {},
   "outputs": [],
   "source": [
    "# Učitavanje podataka\n",
    "data_path = '../resources/cleaned_extended_data3.csv'  # Ažurirajte sa stvarnom putanjom do vašeg fajla\n",
    "df = pd.read_csv(data_path)"
   ]
  },
  {
   "cell_type": "code",
   "execution_count": 5,
   "metadata": {},
   "outputs": [],
   "source": [
    "# Odvajanje ciljne varijable i karakteristika\n",
    "X = df.drop('next_year_hits', axis=1)  # Zamenite 'target_column' sa stvarnim imenom ciljne kolone\n",
    "y = df['next_year_hits']\n",
    "\n",
    "# Podela podataka na trening i test setove\n",
    "X_train, X_test, y_train, y_test = train_test_split(X, y, test_size=0.2, random_state=42)\n",
    "\n"
   ]
  },
  {
   "cell_type": "code",
   "execution_count": 7,
   "metadata": {},
   "outputs": [
    {
     "name": "stdout",
     "output_type": "stream",
     "text": [
      "MSE: 398.34215931956476\n",
      "MAE: 13.657809975591451\n",
      "R² Score: 0.8506441710830508\n"
     ]
    }
   ],
   "source": [
    "# Definisanje Gradient Boosting modela\n",
    "gb_model = GradientBoostingRegressor(n_estimators=190, learning_rate=0.1, max_depth=8, random_state=42)\n",
    "\n",
    "# Obučavanje modela na trening podacima\n",
    "gb_model.fit(X_train, y_train)\n",
    "\n",
    "# Predviđanje na test setu\n",
    "y_pred = gb_model.predict(X_test)\n",
    "\n",
    "# Evaluacija modela\n",
    "mse = mean_squared_error(y_test, y_pred)\n",
    "mae = mean_absolute_error(y_test, y_pred)\n",
    "r2 = r2_score(y_test, y_pred)\n",
    "\n",
    "# Ispis rezultata evaluacije\n",
    "print(f'MSE: {mse}')\n",
    "print(f'MAE: {mae}')\n",
    "print(f'R² Score: {r2}')\n"
   ]
  }
 ],
 "metadata": {
  "kernelspec": {
   "display_name": "base",
   "language": "python",
   "name": "python3"
  },
  "language_info": {
   "codemirror_mode": {
    "name": "ipython",
    "version": 3
   },
   "file_extension": ".py",
   "mimetype": "text/x-python",
   "name": "python",
   "nbconvert_exporter": "python",
   "pygments_lexer": "ipython3",
   "version": "3.11.7"
  }
 },
 "nbformat": 4,
 "nbformat_minor": 2
}
