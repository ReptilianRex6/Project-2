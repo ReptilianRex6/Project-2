{
 "cells": [
  {
   "cell_type": "code",
   "execution_count": 52,
   "metadata": {},
   "outputs": [],
   "source": [
    "import pandas as pd\n",
    "import numpy as np\n",
    "from sklearn.ensemble import RandomForestRegressor\n",
    "from sklearn.svm import SVR\n",
    "from sklearn.preprocessing import MinMaxScaler,StandardScaler\n",
    "from sklearn.model_selection import train_test_split\n",
    "from sklearn.metrics import mean_squared_error, r2_score\n",
    "import matplotlib.pyplot as plt"
   ]
  },
  {
   "cell_type": "code",
   "execution_count": 53,
   "metadata": {},
   "outputs": [
    {
     "name": "stdout",
     "output_type": "stream",
     "text": [
      "    IDfg          Name  Age   PA    H  HR    R  RBI  SB   BB  ...   wOBA  \\\n",
      "0  13611  Mookie Betts   25  614  180  32  129   80  30   81  ...  0.449   \n",
      "1  10155    Mike Trout   26  608  147  39  101   79  24  122  ...  0.447   \n",
      "2  11579  Bryce Harper   22  654  172  42  118   99   6  124  ...  0.461   \n",
      "3  10155    Mike Trout   23  682  172  41  104   90  11   92  ...  0.415   \n",
      "4  15640   Aaron Judge   25  678  154  52  128  114   9  127  ...  0.430   \n",
      "\n",
      "    WAR  BABIP    LD%    GB%  Contact%  SwStr%  Barrel%    EV  maxEV  \n",
      "0  10.4  0.368  0.212  0.339     0.859   0.050    0.131  92.3  110.6  \n",
      "1   9.5  0.346  0.234  0.313     0.841   0.060    0.153  91.2  118.0  \n",
      "2   9.3  0.369  0.222  0.385     0.754   0.108    0.122  91.4  116.0  \n",
      "3   9.3  0.344  0.244  0.372     0.800   0.075    0.161  92.9  117.7  \n",
      "4   8.7  0.357  0.219  0.349     0.676   0.133    0.249  94.9  121.1  \n",
      "\n",
      "[5 rows x 25 columns]\n",
      "4280\n"
     ]
    }
   ],
   "source": [
    "df = pd.read_csv(\"resources/dataset.csv\")\n",
    "print(df.head())\n",
    "print(len(df))"
   ]
  },
  {
   "cell_type": "code",
   "execution_count": 54,
   "metadata": {},
   "outputs": [
    {
     "data": {
      "text/plain": [
       "<Axes: >"
      ]
     },
     "execution_count": 54,
     "metadata": {},
     "output_type": "execute_result"
    },
    {
     "data": {
      "image/png": "[encoded data removed]",
      "text/plain": [
       "<Figure size 640x480 with 1 Axes>"
      ]
     },
     "metadata": {},
     "output_type": "display_data"
    }
   ],
   "source": [
    "df.isna().sum().plot.bar()"
   ]
  },
  {
   "cell_type": "code",
   "execution_count": 55,
   "metadata": {},
   "outputs": [
    {
     "name": "stdout",
     "output_type": "stream",
     "text": [
      "Age           0\n",
      "PA            0\n",
      "H             0\n",
      "HR            0\n",
      "R             0\n",
      "RBI           0\n",
      "SB            0\n",
      "BB            0\n",
      "SO            0\n",
      "AVG           0\n",
      "OBP           0\n",
      "SLG           0\n",
      "OPS           0\n",
      "wOBA          0\n",
      "WAR           0\n",
      "BABIP         0\n",
      "LD%           0\n",
      "GB%           0\n",
      "Contact%      0\n",
      "SwStr%        0\n",
      "Barrel%     559\n",
      "EV          559\n",
      "maxEV       559\n",
      "dtype: int64\n"
     ]
    }
   ],
   "source": [
    "df.drop([\"IDfg\",\"Name\"],axis=1,inplace=True)\n",
    "print(df.isna().sum())\n",
    "df.drop([\"Barrel%\",\"EV\",\"maxEV\"],axis=1,inplace=True)"
   ]
  },
  {
   "cell_type": "code",
   "execution_count": 56,
   "metadata": {},
   "outputs": [],
   "source": [
    "\n",
    "# X = df.drop(\"H\",axis=1)\n",
    "# Y = df['H'].values"
   ]
  },
  {
   "cell_type": "code",
   "execution_count": 57,
   "metadata": {},
   "outputs": [],
   "source": [
    "X = df[[\"PA\",\"AVG\",\"BABIP\",\"BB\",\"OBP\"]]\n",
    "Y = df['H'].values"
   ]
  },
  {
   "cell_type": "code",
   "execution_count": 58,
   "metadata": {},
   "outputs": [],
   "source": [
    "from sklearn.neural_network import MLPRegressor\n",
    "from sklearn.linear_model import LinearRegression\n",
    "from sklearn.ensemble import RandomForestRegressor,AdaBoostRegressor,HistGradientBoostingRegressor\n",
    "from xgboost import XGBRegressor"
   ]
  },
  {
   "cell_type": "code",
   "execution_count": 59,
   "metadata": {},
   "outputs": [],
   "source": [
    "trainX, testX, trainY,testY = train_test_split(X,Y,random_state=42,test_size=0.3)"
   ]
  },
  {
   "cell_type": "code",
   "execution_count": 60,
   "metadata": {},
   "outputs": [],
   "source": [
    "features_scaler = MinMaxScaler()\n",
    "targetScaler = StandardScaler()\n",
    "# trainX = features_scaler.fit_transform(trainX)\n",
    "# testX = features_scaler.transform(testX)\n",
    "\n",
    "# trainY = targetScaler.fit_transform(trainY.reshape(-1,1))\n",
    "# testY = targetScaler.transform(testY.reshape(-1,1))\n"
   ]
  },
  {
   "cell_type": "code",
   "execution_count": 61,
   "metadata": {},
   "outputs": [
    {
     "name": "stdout",
     "output_type": "stream",
     "text": [
      "RandomForestRegressor(n_jobs=-1, random_state=42)\n"
     ]
    },
    {
     "name": "stdout",
     "output_type": "stream",
     "text": [
      "0.997906627989209\n",
      "------\n",
      "SVR()\n",
      "0.9576767791074223\n",
      "------\n",
      "MLPRegressor(max_iter=1000)\n",
      "0.972715544887913\n",
      "------\n",
      "XGBRegressor(base_score=None, booster=None, callbacks=None,\n",
      "             colsample_bylevel=None, colsample_bynode=None,\n",
      "             colsample_bytree=None, early_stopping_rounds=None,\n",
      "             enable_categorical=False, eval_metric=None, gamma=None,\n",
      "             gpu_id=None, grow_policy=None, importance_type=None,\n",
      "             interaction_constraints=None, learning_rate=None, max_bin=None,\n",
      "             max_cat_to_onehot=None, max_delta_step=None, max_depth=None,\n",
      "             max_leaves=None, min_child_weight=None, missing=nan,\n",
      "             monotone_constraints=None, n_estimators=100, n_jobs=None,\n",
      "             num_parallel_tree=None, predictor=None, random_state=None,\n",
      "             reg_alpha=None, reg_lambda=None, ...)\n",
      "0.9985996619014686\n",
      "------\n",
      "AdaBoostRegressor()\n",
      "0.9840987775431601\n",
      "------\n",
      "HistGradientBoostingRegressor()\n",
      "0.9987280043210832\n",
      "------\n",
      "LinearRegression()\n",
      "0.9806064426049389\n",
      "------\n"
     ]
    }
   ],
   "source": [
    "models = [RandomForestRegressor(n_jobs=-1,random_state=42),SVR(),MLPRegressor(max_iter=1000),XGBRegressor(),AdaBoostRegressor(),HistGradientBoostingRegressor(),LinearRegression()]\n",
    "for m in models:\n",
    "    print(m)\n",
    "    m.fit(trainX,trainY.ravel())\n",
    "    pred = m.predict(testX)\n",
    "    r2 = r2_score(testY.ravel(),pred)\n",
    "    print(r2)\n",
    "    print(\"------\")"
   ]
  },
  {
   "cell_type": "code",
   "execution_count": 62,
   "metadata": {},
   "outputs": [
    {
     "name": "stdout",
     "output_type": "stream",
     "text": [
      "0.9979268605309399\n"
     ]
    }
   ],
   "source": [
    "#model = RandomForestRegressor(n_jobs=-1,random_state=42)\n",
    "model = RandomForestRegressor()\n",
    "model.fit(trainX,trainY.ravel())\n",
    "pred = model.predict(testX)\n",
    "r2 = r2_score(testY.ravel(),pred)\n",
    "print(r2)\n"
   ]
  },
  {
   "cell_type": "code",
   "execution_count": 63,
   "metadata": {},
   "outputs": [],
   "source": [
    "important_features = model.feature_importances_"
   ]
  },
  {
   "cell_type": "code",
   "execution_count": 64,
   "metadata": {},
   "outputs": [
    {
     "data": {
      "text/plain": [
       "<Axes: >"
      ]
     },
     "execution_count": 64,
     "metadata": {},
     "output_type": "execute_result"
    },
    {
     "data": {
      "image/png": "[encoded data removed]",
      "text/plain": [
       "<Figure size 640x480 with 1 Axes>"
      ]
     },
     "metadata": {},
     "output_type": "display_data"
    }
   ],
   "source": [
    "feature_names = []\n",
    "forest_importances = pd.Series(important_features,index=X.columns)\n",
    "fig, ax = plt.subplots()\n",
    "forest_importances.plot.bar()"
   ]
  },
  {
   "cell_type": "markdown",
   "metadata": {},
   "source": [
    "1.NaN"
   ]
  },
  {
   "cell_type": "code",
   "execution_count": 65,
   "metadata": {},
   "outputs": [
    {
     "data": {
      "text/plain": [
       "PA       0.954849\n",
       "AVG      0.042191\n",
       "BB       0.001591\n",
       "OBP      0.000870\n",
       "BABIP    0.000500\n",
       "dtype: float64"
      ]
     },
     "execution_count": 65,
     "metadata": {},
     "output_type": "execute_result"
    }
   ],
   "source": [
    "forest_importances.sort_values(ascending=False)"
   ]
  },
  {
   "cell_type": "code",
   "execution_count": 66,
   "metadata": {},
   "outputs": [
    {
     "data": {
      "text/plain": [
       "5"
      ]
     },
     "execution_count": 66,
     "metadata": {},
     "output_type": "execute_result"
    }
   ],
   "source": [
    "len(forest_importances)"
   ]
  }
 ],
 "metadata": {
  "kernelspec": {
   "display_name": "env",
   "language": "python",
   "name": "python3"
  },
  "language_info": {
   "codemirror_mode": {
    "name": "ipython",
    "version": 3
   },
   "file_extension": ".py",
   "mimetype": "text/x-python",
   "name": "python",
   "nbconvert_exporter": "python",
   "pygments_lexer": "ipython3",
   "version": "3.11.8"
  }
 },
 "nbformat": 4,
 "nbformat_minor": 2
}
