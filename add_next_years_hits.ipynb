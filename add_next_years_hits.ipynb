{
 "cells": [
  {
   "cell_type": "code",
   "execution_count": 2,
   "metadata": {},
   "outputs": [],
   "source": [
    "import pandas as pd\n",
    "import numpy as np"
   ]
  },
  {
   "cell_type": "code",
   "execution_count": 3,
   "metadata": {},
   "outputs": [
    {
     "data": {
      "text/html": [
       "<div>\n",
       "<style scoped>\n",
       "    .dataframe tbody tr th:only-of-type {\n",
       "        vertical-align: middle;\n",
       "    }\n",
       "\n",
       "    .dataframe tbody tr th {\n",
       "        vertical-align: top;\n",
       "    }\n",
       "\n",
       "    .dataframe thead th {\n",
       "        text-align: right;\n",
       "    }\n",
       "</style>\n",
       "<table border=\"1\" class=\"dataframe\">\n",
       "  <thead>\n",
       "    <tr style=\"text-align: right;\">\n",
       "      <th></th>\n",
       "      <th>Unnamed: 0</th>\n",
       "      <th>IDfg</th>\n",
       "      <th>Season</th>\n",
       "      <th>Name</th>\n",
       "      <th>Team</th>\n",
       "      <th>Age</th>\n",
       "      <th>G</th>\n",
       "      <th>AB</th>\n",
       "      <th>PA</th>\n",
       "      <th>H</th>\n",
       "      <th>...</th>\n",
       "      <th>maxEV</th>\n",
       "      <th>HardHit</th>\n",
       "      <th>HardHit%</th>\n",
       "      <th>Events</th>\n",
       "      <th>CStr%</th>\n",
       "      <th>CSW%</th>\n",
       "      <th>xBA</th>\n",
       "      <th>xSLG</th>\n",
       "      <th>xwOBA</th>\n",
       "      <th>L-WAR</th>\n",
       "    </tr>\n",
       "  </thead>\n",
       "  <tbody>\n",
       "    <tr>\n",
       "      <th>0</th>\n",
       "      <td>5</td>\n",
       "      <td>15640</td>\n",
       "      <td>2022</td>\n",
       "      <td>Aaron Judge</td>\n",
       "      <td>NYY</td>\n",
       "      <td>30</td>\n",
       "      <td>157</td>\n",
       "      <td>570</td>\n",
       "      <td>696</td>\n",
       "      <td>177</td>\n",
       "      <td>...</td>\n",
       "      <td>118.4</td>\n",
       "      <td>246</td>\n",
       "      <td>0.609</td>\n",
       "      <td>404</td>\n",
       "      <td>0.169</td>\n",
       "      <td>0.287</td>\n",
       "      <td>NaN</td>\n",
       "      <td>NaN</td>\n",
       "      <td>NaN</td>\n",
       "      <td>11.3</td>\n",
       "    </tr>\n",
       "    <tr>\n",
       "      <th>1</th>\n",
       "      <td>8</td>\n",
       "      <td>13611</td>\n",
       "      <td>2018</td>\n",
       "      <td>Mookie Betts</td>\n",
       "      <td>BOS</td>\n",
       "      <td>25</td>\n",
       "      <td>136</td>\n",
       "      <td>520</td>\n",
       "      <td>614</td>\n",
       "      <td>180</td>\n",
       "      <td>...</td>\n",
       "      <td>110.6</td>\n",
       "      <td>217</td>\n",
       "      <td>0.500</td>\n",
       "      <td>434</td>\n",
       "      <td>0.220</td>\n",
       "      <td>0.270</td>\n",
       "      <td>NaN</td>\n",
       "      <td>NaN</td>\n",
       "      <td>NaN</td>\n",
       "      <td>10.4</td>\n",
       "    </tr>\n",
       "    <tr>\n",
       "      <th>2</th>\n",
       "      <td>10</td>\n",
       "      <td>10155</td>\n",
       "      <td>2018</td>\n",
       "      <td>Mike Trout</td>\n",
       "      <td>LAA</td>\n",
       "      <td>26</td>\n",
       "      <td>140</td>\n",
       "      <td>471</td>\n",
       "      <td>608</td>\n",
       "      <td>147</td>\n",
       "      <td>...</td>\n",
       "      <td>118.0</td>\n",
       "      <td>162</td>\n",
       "      <td>0.460</td>\n",
       "      <td>352</td>\n",
       "      <td>0.201</td>\n",
       "      <td>0.261</td>\n",
       "      <td>NaN</td>\n",
       "      <td>NaN</td>\n",
       "      <td>NaN</td>\n",
       "      <td>9.6</td>\n",
       "    </tr>\n",
       "    <tr>\n",
       "      <th>3</th>\n",
       "      <td>4</td>\n",
       "      <td>11579</td>\n",
       "      <td>2015</td>\n",
       "      <td>Bryce Harper</td>\n",
       "      <td>WSN</td>\n",
       "      <td>22</td>\n",
       "      <td>153</td>\n",
       "      <td>521</td>\n",
       "      <td>654</td>\n",
       "      <td>172</td>\n",
       "      <td>...</td>\n",
       "      <td>116.0</td>\n",
       "      <td>188</td>\n",
       "      <td>0.477</td>\n",
       "      <td>394</td>\n",
       "      <td>0.118</td>\n",
       "      <td>0.226</td>\n",
       "      <td>NaN</td>\n",
       "      <td>NaN</td>\n",
       "      <td>NaN</td>\n",
       "      <td>9.3</td>\n",
       "    </tr>\n",
       "    <tr>\n",
       "      <th>4</th>\n",
       "      <td>49</td>\n",
       "      <td>10155</td>\n",
       "      <td>2015</td>\n",
       "      <td>Mike Trout</td>\n",
       "      <td>LAA</td>\n",
       "      <td>23</td>\n",
       "      <td>159</td>\n",
       "      <td>575</td>\n",
       "      <td>682</td>\n",
       "      <td>172</td>\n",
       "      <td>...</td>\n",
       "      <td>117.7</td>\n",
       "      <td>205</td>\n",
       "      <td>0.486</td>\n",
       "      <td>422</td>\n",
       "      <td>0.207</td>\n",
       "      <td>0.282</td>\n",
       "      <td>NaN</td>\n",
       "      <td>NaN</td>\n",
       "      <td>NaN</td>\n",
       "      <td>9.3</td>\n",
       "    </tr>\n",
       "  </tbody>\n",
       "</table>\n",
       "<p>5 rows × 321 columns</p>\n",
       "</div>"
      ],
      "text/plain": [
       "   Unnamed: 0   IDfg  Season          Name Team  Age    G   AB   PA    H  ...  \\\n",
       "0           5  15640    2022   Aaron Judge  NYY   30  157  570  696  177  ...   \n",
       "1           8  13611    2018  Mookie Betts  BOS   25  136  520  614  180  ...   \n",
       "2          10  10155    2018    Mike Trout  LAA   26  140  471  608  147  ...   \n",
       "3           4  11579    2015  Bryce Harper  WSN   22  153  521  654  172  ...   \n",
       "4          49  10155    2015    Mike Trout  LAA   23  159  575  682  172  ...   \n",
       "\n",
       "   maxEV  HardHit  HardHit%  Events  CStr%   CSW%  xBA  xSLG  xwOBA  L-WAR  \n",
       "0  118.4      246     0.609     404  0.169  0.287  NaN   NaN    NaN   11.3  \n",
       "1  110.6      217     0.500     434  0.220  0.270  NaN   NaN    NaN   10.4  \n",
       "2  118.0      162     0.460     352  0.201  0.261  NaN   NaN    NaN    9.6  \n",
       "3  116.0      188     0.477     394  0.118  0.226  NaN   NaN    NaN    9.3  \n",
       "4  117.7      205     0.486     422  0.207  0.282  NaN   NaN    NaN    9.3  \n",
       "\n",
       "[5 rows x 321 columns]"
      ]
     },
     "execution_count": 3,
     "metadata": {},
     "output_type": "execute_result"
    }
   ],
   "source": [
    "data = pd.read_csv('data.csv')\n",
    "data.head()"
   ]
  },
  {
   "cell_type": "code",
   "execution_count": 4,
   "metadata": {},
   "outputs": [
    {
     "data": {
      "text/plain": [
       "4827"
      ]
     },
     "execution_count": 4,
     "metadata": {},
     "output_type": "execute_result"
    }
   ],
   "source": [
    "data_len = len(data)\n",
    "data_len\n",
    "    "
   ]
  },
  {
   "cell_type": "code",
   "execution_count": 5,
   "metadata": {},
   "outputs": [
    {
     "data": {
      "text/plain": [
       "array([[nan],\n",
       "       [nan],\n",
       "       [nan],\n",
       "       ...,\n",
       "       [nan],\n",
       "       [nan],\n",
       "       [nan]])"
      ]
     },
     "execution_count": 5,
     "metadata": {},
     "output_type": "execute_result"
    }
   ],
   "source": [
    "next_hits = np.empty((data_len, 1))\n",
    "next_hits[:, 0] = np.nan\n",
    "next_hits"
   ]
  },
  {
   "cell_type": "code",
   "execution_count": 6,
   "metadata": {},
   "outputs": [
    {
     "name": "stderr",
     "output_type": "stream",
     "text": [
      "C:\\Users\\matt_\\AppData\\Local\\Temp\\ipykernel_6740\\882367182.py:12: FutureWarning: Calling float on a single element Series is deprecated and will raise a TypeError in the future. Use float(ser.iloc[0]) instead\n",
      "  next_hits[row, 0] = data.loc[intersect,\"H\"]\n"
     ]
    }
   ],
   "source": [
    "for row in range(data_len):\n",
    "    season = data.loc[row,\"Season\"]\n",
    "    id = data.loc[row,\"IDfg\"]\n",
    "    \n",
    "    next_season = season + 1\n",
    "    \n",
    "    # print(f'season: {season}, id: {id}, next season={next_season}')\n",
    "    \n",
    "    intersect = ((data['IDfg']==id) & (data['Season']==next_season))\n",
    "    \n",
    "    if np.any(intersect):\n",
    "        next_hits[row, 0] = data.loc[intersect,\"H\"]\n",
    "        \n"
   ]
  },
  {
   "cell_type": "code",
   "execution_count": 7,
   "metadata": {},
   "outputs": [],
   "source": [
    "np.savetxt('next_hits.csv', next_hits, delimiter=\",\")"
   ]
  },
  {
   "cell_type": "code",
   "execution_count": 8,
   "metadata": {},
   "outputs": [],
   "source": [
    "data['next_year_hits'] = next_hits"
   ]
  },
  {
   "cell_type": "code",
   "execution_count": 9,
   "metadata": {},
   "outputs": [],
   "source": [
    "data.to_csv('data2.csv', na_rep='NULL')"
   ]
  }
 ],
 "metadata": {
  "kernelspec": {
   "display_name": ".venv",
   "language": "python",
   "name": "python3"
  },
  "language_info": {
   "codemirror_mode": {
    "name": "ipython",
    "version": 3
   },
   "file_extension": ".py",
   "mimetype": "text/x-python",
   "name": "python",
   "nbconvert_exporter": "python",
   "pygments_lexer": "ipython3",
   "version": "3.11.7"
  }
 },
 "nbformat": 4,
 "nbformat_minor": 2
}
