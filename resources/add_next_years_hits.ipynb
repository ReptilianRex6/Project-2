{
 "cells": [
  {
   "cell_type": "code",
   "execution_count": 1,
   "metadata": {},
   "outputs": [],
   "source": [
    "import pandas as pd\n",
    "import numpy as np"
   ]
  },
  {
   "cell_type": "code",
   "execution_count": 2,
   "metadata": {},
   "outputs": [
    {
     "data": {
      "text/html": [
       "<div>\n",
       "<style scoped>\n",
       "    .dataframe tbody tr th:only-of-type {\n",
       "        vertical-align: middle;\n",
       "    }\n",
       "\n",
       "    .dataframe tbody tr th {\n",
       "        vertical-align: top;\n",
       "    }\n",
       "\n",
       "    .dataframe thead th {\n",
       "        text-align: right;\n",
       "    }\n",
       "</style>\n",
       "<table border=\"1\" class=\"dataframe\">\n",
       "  <thead>\n",
       "    <tr style=\"text-align: right;\">\n",
       "      <th></th>\n",
       "      <th>IDfg</th>\n",
       "      <th>Season</th>\n",
       "      <th>Name</th>\n",
<<<<<<< HEAD
       "      <th>Age</th>\n",
       "      <th>PA</th>\n",
       "      <th>H</th>\n",
       "      <th>HR</th>\n",
       "      <th>R</th>\n",
       "      <th>RBI</th>\n",
       "      <th>SB</th>\n",
       "      <th>...</th>\n",
       "      <th>wOBA</th>\n",
       "      <th>WAR</th>\n",
       "      <th>BABIP</th>\n",
       "      <th>LD%</th>\n",
       "      <th>GB%</th>\n",
       "      <th>Contact%</th>\n",
       "      <th>SwStr%</th>\n",
       "      <th>Barrel%</th>\n",
       "      <th>EV</th>\n",
       "      <th>maxEV</th>\n",
=======
       "      <th>Team</th>\n",
       "      <th>Age</th>\n",
       "      <th>G</th>\n",
       "      <th>AB</th>\n",
       "      <th>PA</th>\n",
       "      <th>H</th>\n",
       "      <th>1B</th>\n",
       "      <th>...</th>\n",
       "      <th>maxEV</th>\n",
       "      <th>HardHit</th>\n",
       "      <th>HardHit%</th>\n",
       "      <th>Events</th>\n",
       "      <th>CStr%</th>\n",
       "      <th>CSW%</th>\n",
       "      <th>xBA</th>\n",
       "      <th>xSLG</th>\n",
       "      <th>xwOBA</th>\n",
       "      <th>L-WAR</th>\n",
>>>>>>> ea1283a9f23e13e21f4e17b2f559477aa581fd29
       "    </tr>\n",
       "  </thead>\n",
       "  <tbody>\n",
       "    <tr>\n",
       "      <th>0</th>\n",
       "      <td>15640</td>\n",
       "      <td>2022</td>\n",
       "      <td>Aaron Judge</td>\n",
<<<<<<< HEAD
       "      <td>30</td>\n",
       "      <td>696</td>\n",
       "      <td>177</td>\n",
       "      <td>62</td>\n",
       "      <td>133</td>\n",
       "      <td>131</td>\n",
       "      <td>16</td>\n",
       "      <td>...</td>\n",
       "      <td>0.458</td>\n",
       "      <td>11.6</td>\n",
       "      <td>0.340</td>\n",
       "      <td>0.193</td>\n",
       "      <td>0.373</td>\n",
       "      <td>0.722</td>\n",
       "      <td>0.118</td>\n",
       "      <td>0.262</td>\n",
       "      <td>95.8</td>\n",
       "      <td>118.4</td>\n",
=======
       "      <td>NYY</td>\n",
       "      <td>30</td>\n",
       "      <td>157</td>\n",
       "      <td>570</td>\n",
       "      <td>696</td>\n",
       "      <td>177</td>\n",
       "      <td>87</td>\n",
       "      <td>...</td>\n",
       "      <td>118.4</td>\n",
       "      <td>246</td>\n",
       "      <td>0.609</td>\n",
       "      <td>404</td>\n",
       "      <td>0.169</td>\n",
       "      <td>0.287</td>\n",
       "      <td>NaN</td>\n",
       "      <td>NaN</td>\n",
       "      <td>NaN</td>\n",
       "      <td>11.3</td>\n",
>>>>>>> ea1283a9f23e13e21f4e17b2f559477aa581fd29
       "    </tr>\n",
       "    <tr>\n",
       "      <th>1</th>\n",
       "      <td>13611</td>\n",
       "      <td>2018</td>\n",
       "      <td>Mookie Betts</td>\n",
<<<<<<< HEAD
       "      <td>25</td>\n",
       "      <td>614</td>\n",
       "      <td>180</td>\n",
       "      <td>32</td>\n",
       "      <td>129</td>\n",
       "      <td>80</td>\n",
       "      <td>30</td>\n",
       "      <td>...</td>\n",
       "      <td>0.449</td>\n",
       "      <td>10.4</td>\n",
       "      <td>0.368</td>\n",
       "      <td>0.212</td>\n",
       "      <td>0.339</td>\n",
       "      <td>0.859</td>\n",
       "      <td>0.050</td>\n",
       "      <td>0.131</td>\n",
       "      <td>92.3</td>\n",
       "      <td>110.6</td>\n",
=======
       "      <td>BOS</td>\n",
       "      <td>25</td>\n",
       "      <td>136</td>\n",
       "      <td>520</td>\n",
       "      <td>614</td>\n",
       "      <td>180</td>\n",
       "      <td>96</td>\n",
       "      <td>...</td>\n",
       "      <td>110.6</td>\n",
       "      <td>217</td>\n",
       "      <td>0.500</td>\n",
       "      <td>434</td>\n",
       "      <td>0.220</td>\n",
       "      <td>0.270</td>\n",
       "      <td>NaN</td>\n",
       "      <td>NaN</td>\n",
       "      <td>NaN</td>\n",
       "      <td>10.4</td>\n",
>>>>>>> ea1283a9f23e13e21f4e17b2f559477aa581fd29
       "    </tr>\n",
       "    <tr>\n",
       "      <th>2</th>\n",
       "      <td>10155</td>\n",
       "      <td>2018</td>\n",
       "      <td>Mike Trout</td>\n",
<<<<<<< HEAD
       "      <td>26</td>\n",
       "      <td>608</td>\n",
       "      <td>147</td>\n",
       "      <td>39</td>\n",
       "      <td>101</td>\n",
       "      <td>79</td>\n",
       "      <td>24</td>\n",
       "      <td>...</td>\n",
       "      <td>0.447</td>\n",
       "      <td>9.5</td>\n",
       "      <td>0.346</td>\n",
       "      <td>0.234</td>\n",
       "      <td>0.313</td>\n",
       "      <td>0.841</td>\n",
       "      <td>0.060</td>\n",
       "      <td>0.153</td>\n",
       "      <td>91.2</td>\n",
       "      <td>118.0</td>\n",
=======
       "      <td>LAA</td>\n",
       "      <td>26</td>\n",
       "      <td>140</td>\n",
       "      <td>471</td>\n",
       "      <td>608</td>\n",
       "      <td>147</td>\n",
       "      <td>80</td>\n",
       "      <td>...</td>\n",
       "      <td>118.0</td>\n",
       "      <td>162</td>\n",
       "      <td>0.460</td>\n",
       "      <td>352</td>\n",
       "      <td>0.201</td>\n",
       "      <td>0.261</td>\n",
       "      <td>NaN</td>\n",
       "      <td>NaN</td>\n",
       "      <td>NaN</td>\n",
       "      <td>9.6</td>\n",
>>>>>>> ea1283a9f23e13e21f4e17b2f559477aa581fd29
       "    </tr>\n",
       "    <tr>\n",
       "      <th>3</th>\n",
       "      <td>11579</td>\n",
       "      <td>2015</td>\n",
       "      <td>Bryce Harper</td>\n",
<<<<<<< HEAD
       "      <td>22</td>\n",
       "      <td>654</td>\n",
       "      <td>172</td>\n",
       "      <td>42</td>\n",
       "      <td>118</td>\n",
       "      <td>99</td>\n",
       "      <td>6</td>\n",
       "      <td>...</td>\n",
       "      <td>0.461</td>\n",
       "      <td>9.3</td>\n",
       "      <td>0.369</td>\n",
       "      <td>0.222</td>\n",
       "      <td>0.385</td>\n",
       "      <td>0.754</td>\n",
       "      <td>0.108</td>\n",
       "      <td>0.122</td>\n",
       "      <td>91.4</td>\n",
       "      <td>116.0</td>\n",
=======
       "      <td>WSN</td>\n",
       "      <td>22</td>\n",
       "      <td>153</td>\n",
       "      <td>521</td>\n",
       "      <td>654</td>\n",
       "      <td>172</td>\n",
       "      <td>91</td>\n",
       "      <td>...</td>\n",
       "      <td>116.0</td>\n",
       "      <td>188</td>\n",
       "      <td>0.477</td>\n",
       "      <td>394</td>\n",
       "      <td>0.118</td>\n",
       "      <td>0.226</td>\n",
       "      <td>NaN</td>\n",
       "      <td>NaN</td>\n",
       "      <td>NaN</td>\n",
       "      <td>9.3</td>\n",
>>>>>>> ea1283a9f23e13e21f4e17b2f559477aa581fd29
       "    </tr>\n",
       "    <tr>\n",
       "      <th>4</th>\n",
       "      <td>10155</td>\n",
       "      <td>2015</td>\n",
       "      <td>Mike Trout</td>\n",
<<<<<<< HEAD
       "      <td>23</td>\n",
       "      <td>682</td>\n",
       "      <td>172</td>\n",
       "      <td>41</td>\n",
       "      <td>104</td>\n",
       "      <td>90</td>\n",
       "      <td>11</td>\n",
       "      <td>...</td>\n",
       "      <td>0.415</td>\n",
       "      <td>9.3</td>\n",
       "      <td>0.344</td>\n",
       "      <td>0.244</td>\n",
       "      <td>0.372</td>\n",
       "      <td>0.800</td>\n",
       "      <td>0.075</td>\n",
       "      <td>0.161</td>\n",
       "      <td>92.9</td>\n",
       "      <td>117.7</td>\n",
       "    </tr>\n",
       "  </tbody>\n",
       "</table>\n",
       "<p>5 rows × 26 columns</p>\n",
       "</div>"
      ],
      "text/plain": [
       "    IDfg  Season          Name  Age   PA    H  HR    R  RBI  SB  ...   wOBA  \\\n",
       "0  15640    2022   Aaron Judge   30  696  177  62  133  131  16  ...  0.458   \n",
       "1  13611    2018  Mookie Betts   25  614  180  32  129   80  30  ...  0.449   \n",
       "2  10155    2018    Mike Trout   26  608  147  39  101   79  24  ...  0.447   \n",
       "3  11579    2015  Bryce Harper   22  654  172  42  118   99   6  ...  0.461   \n",
       "4  10155    2015    Mike Trout   23  682  172  41  104   90  11  ...  0.415   \n",
       "\n",
       "    WAR  BABIP    LD%    GB%  Contact%  SwStr%  Barrel%    EV  maxEV  \n",
       "0  11.6  0.340  0.193  0.373     0.722   0.118    0.262  95.8  118.4  \n",
       "1  10.4  0.368  0.212  0.339     0.859   0.050    0.131  92.3  110.6  \n",
       "2   9.5  0.346  0.234  0.313     0.841   0.060    0.153  91.2  118.0  \n",
       "3   9.3  0.369  0.222  0.385     0.754   0.108    0.122  91.4  116.0  \n",
       "4   9.3  0.344  0.244  0.372     0.800   0.075    0.161  92.9  117.7  \n",
       "\n",
       "[5 rows x 26 columns]"
=======
       "      <td>LAA</td>\n",
       "      <td>23</td>\n",
       "      <td>159</td>\n",
       "      <td>575</td>\n",
       "      <td>682</td>\n",
       "      <td>172</td>\n",
       "      <td>93</td>\n",
       "      <td>...</td>\n",
       "      <td>117.7</td>\n",
       "      <td>205</td>\n",
       "      <td>0.486</td>\n",
       "      <td>422</td>\n",
       "      <td>0.207</td>\n",
       "      <td>0.282</td>\n",
       "      <td>NaN</td>\n",
       "      <td>NaN</td>\n",
       "      <td>NaN</td>\n",
       "      <td>9.3</td>\n",
       "    </tr>\n",
       "  </tbody>\n",
       "</table>\n",
       "<p>5 rows × 320 columns</p>\n",
       "</div>"
      ],
      "text/plain": [
       "    IDfg  Season          Name Team  Age    G   AB   PA    H  1B  ...  maxEV  \\\n",
       "0  15640    2022   Aaron Judge  NYY   30  157  570  696  177  87  ...  118.4   \n",
       "1  13611    2018  Mookie Betts  BOS   25  136  520  614  180  96  ...  110.6   \n",
       "2  10155    2018    Mike Trout  LAA   26  140  471  608  147  80  ...  118.0   \n",
       "3  11579    2015  Bryce Harper  WSN   22  153  521  654  172  91  ...  116.0   \n",
       "4  10155    2015    Mike Trout  LAA   23  159  575  682  172  93  ...  117.7   \n",
       "\n",
       "   HardHit  HardHit%  Events  CStr%   CSW%  xBA  xSLG  xwOBA  L-WAR  \n",
       "0      246     0.609     404  0.169  0.287  NaN   NaN    NaN   11.3  \n",
       "1      217     0.500     434  0.220  0.270  NaN   NaN    NaN   10.4  \n",
       "2      162     0.460     352  0.201  0.261  NaN   NaN    NaN    9.6  \n",
       "3      188     0.477     394  0.118  0.226  NaN   NaN    NaN    9.3  \n",
       "4      205     0.486     422  0.207  0.282  NaN   NaN    NaN    9.3  \n",
       "\n",
       "[5 rows x 320 columns]"
>>>>>>> ea1283a9f23e13e21f4e17b2f559477aa581fd29
      ]
     },
     "execution_count": 2,
     "metadata": {},
     "output_type": "execute_result"
    }
   ],
   "source": [
<<<<<<< HEAD
    "data = pd.read_csv('datase.csv')\n",
=======
    "data = pd.read_csv('data.csv')\n",
>>>>>>> ea1283a9f23e13e21f4e17b2f559477aa581fd29
    "data.head()"
   ]
  },
  {
   "cell_type": "code",
   "execution_count": 3,
   "metadata": {},
   "outputs": [
    {
     "data": {
      "text/plain": [
       "4827"
      ]
     },
     "execution_count": 3,
     "metadata": {},
     "output_type": "execute_result"
    }
   ],
   "source": [
    "data_len = len(data)\n",
    "data_len\n",
    "    "
   ]
  },
  {
   "cell_type": "code",
   "execution_count": 4,
   "metadata": {},
   "outputs": [
    {
     "data": {
      "text/plain": [
       "array([[nan],\n",
       "       [nan],\n",
       "       [nan],\n",
       "       ...,\n",
       "       [nan],\n",
       "       [nan],\n",
       "       [nan]])"
      ]
     },
     "execution_count": 4,
     "metadata": {},
     "output_type": "execute_result"
    }
   ],
   "source": [
    "next_hits = np.empty((data_len, 1))\n",
    "next_hits[:, 0] = np.nan\n",
    "next_hits"
   ]
  },
  {
   "cell_type": "code",
<<<<<<< HEAD
   "execution_count": 5,
=======
   "execution_count": 6,
>>>>>>> ea1283a9f23e13e21f4e17b2f559477aa581fd29
   "metadata": {},
   "outputs": [
    {
     "name": "stderr",
     "output_type": "stream",
     "text": [
<<<<<<< HEAD
      "/var/folders/_y/yf31rx295k3cwqj5kfdq7xvh0000gn/T/ipykernel_60941/882367182.py:12: FutureWarning: Calling float on a single element Series is deprecated and will raise a TypeError in the future. Use float(ser.iloc[0]) instead\n",
=======
      "/var/folders/5g/q4p5gs2n4236kzpt7r4nbsbh0000gn/T/ipykernel_33617/882367182.py:12: FutureWarning: Calling float on a single element Series is deprecated and will raise a TypeError in the future. Use float(ser.iloc[0]) instead\n",
>>>>>>> ea1283a9f23e13e21f4e17b2f559477aa581fd29
      "  next_hits[row, 0] = data.loc[intersect,\"H\"]\n"
     ]
    }
   ],
   "source": [
    "for row in range(data_len):\n",
    "    season = data.loc[row,\"Season\"]\n",
    "    id = data.loc[row,\"IDfg\"]\n",
    "    \n",
    "    next_season = season + 1\n",
    "    \n",
    "    # print(f'season: {season}, id: {id}, next season={next_season}')\n",
    "    \n",
    "    intersect = ((data['IDfg']==id) & (data['Season']==next_season))\n",
    "    \n",
    "    if np.any(intersect):\n",
    "        next_hits[row, 0] = data.loc[intersect,\"H\"]\n",
    "        \n"
   ]
  },
  {
   "cell_type": "code",
   "execution_count": 6,
   "metadata": {},
   "outputs": [],
   "source": [
    "np.savetxt('next_hits.csv', next_hits, delimiter=\",\")"
   ]
  },
  {
   "cell_type": "code",
   "execution_count": 7,
   "metadata": {},
   "outputs": [],
   "source": [
    "data['next_year_hits'] = next_hits"
   ]
  },
  {
   "cell_type": "code",
   "execution_count": 8,
   "metadata": {},
   "outputs": [],
   "source": [
    "data.to_csv('data2.csv', na_rep='NULL')"
   ]
<<<<<<< HEAD
  },
  {
   "cell_type": "code",
   "execution_count": null,
   "metadata": {},
   "outputs": [],
   "source": []
=======
>>>>>>> ea1283a9f23e13e21f4e17b2f559477aa581fd29
  }
 ],
 "metadata": {
  "kernelspec": {
   "display_name": ".venv",
   "language": "python",
   "name": "python3"
  },
  "language_info": {
   "codemirror_mode": {
    "name": "ipython",
    "version": 3
   },
   "file_extension": ".py",
   "mimetype": "text/x-python",
   "name": "python",
   "nbconvert_exporter": "python",
   "pygments_lexer": "ipython3",
   "version": "3.11.5"
  }
 },
 "nbformat": 4,
 "nbformat_minor": 2
}
