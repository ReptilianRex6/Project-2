{
 "cells": [
  {
   "cell_type": "code",
   "execution_count": 1,
   "metadata": {},
   "outputs": [],
   "source": [
    "# Uvoz potrebnih biblioteka\n",
    "import pandas as pd"
   ]
  },
  {
   "cell_type": "code",
   "execution_count": 2,
   "metadata": {},
   "outputs": [],
   "source": [
    "# Učitavanje glavnog dataset-a\n",
    "full_batting_data = pd.read_csv('../resources/full_batting_data.csv')\n"
   ]
  },
  {
   "cell_type": "code",
   "execution_count": 3,
   "metadata": {},
   "outputs": [],
   "source": [
    "# Transformacija imena iz \"Ime Prezime\" u \"Prezime, Ime\" u glavnom datasetu\n",
    "full_batting_data['formatted_name'] = full_batting_data['Name'].apply(lambda x: ', '.join(x.split()[::-1]))\n",
    "\n",
    "# Lista za sakupljanje podataka o sprintu iz svih fajlova\n",
    "sprint_data_list = []\n",
    "\n",
    "# Definisanje godina koje su obuhvaćene\n",
    "years = range(2015, 2020)  # 2020 je ekskluzivno, dakle 2014 do 2019 uključivo\n",
    "\n",
    "# Učitavanje podataka o sprintu za svaku godinu i njihova transformacija\n",
    "for year in years:\n",
    "    sprint_data = pd.read_csv(f'../resources/sprint_speed_data_{year}.csv')\n",
    "    # Dodavanje kolone 'year' kako bi se sačuvala informacija o godini\n",
    "    sprint_data['year'] = year\n",
    "    sprint_data_list.append(sprint_data)\n",
    "\n",
    "\n",
    "\n",
    "\n"
   ]
  },
  {
   "cell_type": "code",
   "execution_count": 4,
   "metadata": {},
   "outputs": [
    {
     "name": "stdout",
     "output_type": "stream",
     "text": [
      "    IDfg  Season          Name Team  Age    G   AB   PA    H  1B  ...  \\\n",
      "0  13611    2018  Mookie Betts  BOS   25  136  520  614  180  96  ...   \n",
      "1  10155    2018    Mike Trout  LAA   26  140  471  608  147  80  ...   \n",
      "2  11579    2015  Bryce Harper  WSN   22  153  521  654  172  91  ...   \n",
      "3  10155    2015    Mike Trout  LAA   23  159  575  682  172  93  ...   \n",
      "4  15640    2017   Aaron Judge  NYY   25  155  542  678  154  75  ...   \n",
      "\n",
      "   player_id  team_id  team  position   age  competitive_runs  bolts  \\\n",
      "0   605141.0    111.0   BOS        RF  25.0             237.0    6.0   \n",
      "1   545361.0    108.0   LAA        CF  26.0             185.0   36.0   \n",
      "2   547180.0    120.0   WSH        RF  22.0             223.0    1.0   \n",
      "3   545361.0    108.0   LAA        CF  23.0             236.0   73.0   \n",
      "4   592450.0    147.0   NYY        RF  25.0             209.0    NaN   \n",
      "\n",
      "   hp_to_1b  sprint_speed    year  \n",
      "0      4.18          28.1  2018.0  \n",
      "1      4.25          29.2  2018.0  \n",
      "2      4.34          27.7  2015.0  \n",
      "3      4.20          29.6  2015.0  \n",
      "4      4.50          28.0  2017.0  \n",
      "\n",
      "[5 rows x 332 columns]\n"
     ]
    }
   ],
   "source": [
    "# Kombinovanje svih podataka o sprintu u jedan DataFrame\n",
    "combined_sprint_data = pd.concat(sprint_data_list)\n",
    "\n",
    "# Spajanje na osnovu formatiranog imena i godine\n",
    "extended_data = pd.merge(full_batting_data, combined_sprint_data, left_on=['formatted_name', 'Season'], right_on=['last_name, first_name', 'year'], how='left')\n",
    "\n",
    "# Provera rezultata\n",
    "print(extended_data.head())"
   ]
  },
  {
   "cell_type": "code",
   "execution_count": 5,
   "metadata": {},
   "outputs": [
    {
     "name": "stdout",
     "output_type": "stream",
     "text": [
      "<class 'pandas.core.frame.DataFrame'>\n",
      "RangeIndex: 3312 entries, 0 to 3311\n",
      "Columns: 332 entries, IDfg to year\n",
      "dtypes: float64(271), int64(53), object(8)\n",
      "memory usage: 8.4+ MB\n"
     ]
    }
   ],
   "source": [
    "extended_data.info()"
   ]
  },
  {
   "cell_type": "code",
   "execution_count": 6,
   "metadata": {},
   "outputs": [
    {
     "name": "stdout",
     "output_type": "stream",
     "text": [
      "          formatted_name              Name  Season    year\n",
      "2473      Mikolas, Miles     Miles Mikolas    2019     NaN\n",
      "544      Hamilton, Billy    Billy Hamilton    2014     NaN\n",
      "3226       O'Hearn, Ryan      Ryan O'Hearn    2019  2019.0\n",
      "91        Heyward, Jason     Jason Heyward    2015  2015.0\n",
      "2688  Aza, De, Alejandro  Alejandro De Aza    2016     NaN\n",
      "1469        Walker, Neil       Neil Walker    2019  2019.0\n",
      "83        Ozuna, Marcell     Marcell Ozuna    2017  2017.0\n",
      "2537     Beckham, Gordon    Gordon Beckham    2016  2016.0\n",
      "3162        Moore, Tyler       Tyler Moore    2015  2015.0\n",
      "1934       Wheeler, Zack      Zack Wheeler    2018     NaN\n"
     ]
    }
   ],
   "source": [
    "# Prikazivanje uzorka spojenih redova sa ključnim informacijama\n",
    "print(extended_data[['formatted_name',  'Name', 'Season', 'year']].sample(n=10))\n"
   ]
  },
  {
   "cell_type": "code",
   "execution_count": 7,
   "metadata": {},
   "outputs": [],
   "source": [
    "# Drop columns from extended_data that are not needed for analysis formatted_name', 'last_name, first_name', 'year','player_id', 'team_id', 'team'\n",
    "\n",
    "clean_extended_data = extended_data.drop(columns=['formatted_name', 'last_name, first_name', 'year','player_id', 'team_id', 'team', 'position', 'age'])\n",
    "\n",
    "\n"
   ]
  },
  {
   "cell_type": "code",
   "execution_count": 8,
   "metadata": {},
   "outputs": [],
   "source": [
    "# Kolonu 'hp_to_1b' nan vrednosti dopun sa mean vrednostima, zaokruzi na dve decimale\n",
    "clean_extended_data['hp_to_1b'] = clean_extended_data['hp_to_1b'].fillna(clean_extended_data['hp_to_1b'].mean()).round(2)\n",
    "\n",
    "\n",
    "# Kolunu 'bolts' nan vrednosti zameni sa nulom \n",
    "clean_extended_data['bolts'] = clean_extended_data['bolts'].fillna(0)\n",
    "\n",
    "# Kolunu 'competitive_runs' nan vrednosti zameni sa mean vrednostima, zaokruzi na ceo broj\n",
    "clean_extended_data['competitive_runs'] = clean_extended_data['competitive_runs'].fillna(clean_extended_data['competitive_runs'].mean()).round(0)\n",
    "\n"
   ]
  },
  {
   "cell_type": "code",
   "execution_count": 9,
   "metadata": {},
   "outputs": [
    {
     "name": "stdout",
     "output_type": "stream",
     "text": [
      "xwOBA         3312\n",
      "xSLG          3312\n",
      "xBA           3312\n",
      "UN% (sc)      3312\n",
      "PO%           3312\n",
      "              ... \n",
      "CU-X (sc)        1\n",
      "CU-Z (sc)        1\n",
      "wCU/C (sc)       1\n",
      "wSI/C (sc)       1\n",
      "vSI (sc)         1\n",
      "Length: 136, dtype: int64\n"
     ]
    }
   ],
   "source": [
    "# Prikazi kolone sa nan vrednostima a da ih ima vise od 0 i sortiraj po broju nan vrednosti\n",
    "nan_columns = clean_extended_data.columns[clean_extended_data.isna().sum() > 0]\n",
    "nan_counts = clean_extended_data[nan_columns].isna().sum().sort_values(ascending=False)\n",
    "print(nan_counts)\n",
    "\n",
    "\n"
   ]
  },
  {
   "cell_type": "code",
   "execution_count": 10,
   "metadata": {},
   "outputs": [],
   "source": [
    "# Popunjavanje nedostjucih vrednosti u koloni sprint_speed\n",
    "# Ako za igraca ne postoji vrednost za sprint_speed za neku sezonu, onda se koristi mean vrednost sprint_speed-a za tog igraca\n",
    "clean_extended_data['sprint_speed'] = clean_extended_data.groupby('Name')['sprint_speed'].transform(lambda x: x.fillna(x.mean()))\n",
    "\n",
    "# zaokruzi na na jednu decimalu\n",
    "clean_extended_data['sprint_speed'] = clean_extended_data['sprint_speed'].round(1)\n"
   ]
  },
  {
   "cell_type": "code",
   "execution_count": 11,
   "metadata": {},
   "outputs": [],
   "source": [
    "# Izbaci sve redove koji su iz sezone 2014\n",
    "clean_extended_data = clean_extended_data[clean_extended_data['Season'] != 2014]"
   ]
  },
  {
   "cell_type": "code",
   "execution_count": 12,
   "metadata": {},
   "outputs": [],
   "source": [
    "# Izbaci sve igrace koji se pojavljuju samo jednu sezonu\n",
    "\n",
    "clean_extended_data = clean_extended_data.groupby('Name').filter(lambda x: len(x) > 1)\n",
    "\n"
   ]
  },
  {
   "cell_type": "code",
   "execution_count": 13,
   "metadata": {},
   "outputs": [],
   "source": [
    "# Sve ostale nan vrednosti u koloni sprint_speed popuni sa mean vrednostima sprint_speed-a\n",
    "clean_extended_data['sprint_speed'] = clean_extended_data['sprint_speed'].fillna(clean_extended_data['sprint_speed'].mean())"
   ]
  },
  {
   "cell_type": "code",
   "execution_count": 14,
   "metadata": {},
   "outputs": [
    {
     "data": {
      "text/html": [
       "<div>\n",
       "<style scoped>\n",
       "    .dataframe tbody tr th:only-of-type {\n",
       "        vertical-align: middle;\n",
       "    }\n",
       "\n",
       "    .dataframe tbody tr th {\n",
       "        vertical-align: top;\n",
       "    }\n",
       "\n",
       "    .dataframe thead th {\n",
       "        text-align: right;\n",
       "    }\n",
       "</style>\n",
       "<table border=\"1\" class=\"dataframe\">\n",
       "  <thead>\n",
       "    <tr style=\"text-align: right;\">\n",
       "      <th></th>\n",
       "      <th>IDfg</th>\n",
       "      <th>Season</th>\n",
       "      <th>Name</th>\n",
       "      <th>Team</th>\n",
       "      <th>Age</th>\n",
       "      <th>G</th>\n",
       "      <th>AB</th>\n",
       "      <th>PA</th>\n",
       "      <th>H</th>\n",
       "      <th>1B</th>\n",
       "      <th>...</th>\n",
       "      <th>CStr%</th>\n",
       "      <th>CSW%</th>\n",
       "      <th>xBA</th>\n",
       "      <th>xSLG</th>\n",
       "      <th>xwOBA</th>\n",
       "      <th>L-WAR</th>\n",
       "      <th>competitive_runs</th>\n",
       "      <th>bolts</th>\n",
       "      <th>hp_to_1b</th>\n",
       "      <th>sprint_speed</th>\n",
       "    </tr>\n",
       "  </thead>\n",
       "  <tbody>\n",
       "    <tr>\n",
       "      <th>0</th>\n",
       "      <td>13611</td>\n",
       "      <td>2018</td>\n",
       "      <td>Mookie Betts</td>\n",
       "      <td>BOS</td>\n",
       "      <td>25</td>\n",
       "      <td>136</td>\n",
       "      <td>520</td>\n",
       "      <td>614</td>\n",
       "      <td>180</td>\n",
       "      <td>96</td>\n",
       "      <td>...</td>\n",
       "      <td>0.220</td>\n",
       "      <td>0.270</td>\n",
       "      <td>NaN</td>\n",
       "      <td>NaN</td>\n",
       "      <td>NaN</td>\n",
       "      <td>10.2</td>\n",
       "      <td>237.0</td>\n",
       "      <td>6.0</td>\n",
       "      <td>4.18</td>\n",
       "      <td>28.1</td>\n",
       "    </tr>\n",
       "    <tr>\n",
       "      <th>1</th>\n",
       "      <td>10155</td>\n",
       "      <td>2018</td>\n",
       "      <td>Mike Trout</td>\n",
       "      <td>LAA</td>\n",
       "      <td>26</td>\n",
       "      <td>140</td>\n",
       "      <td>471</td>\n",
       "      <td>608</td>\n",
       "      <td>147</td>\n",
       "      <td>80</td>\n",
       "      <td>...</td>\n",
       "      <td>0.201</td>\n",
       "      <td>0.261</td>\n",
       "      <td>NaN</td>\n",
       "      <td>NaN</td>\n",
       "      <td>NaN</td>\n",
       "      <td>9.5</td>\n",
       "      <td>185.0</td>\n",
       "      <td>36.0</td>\n",
       "      <td>4.25</td>\n",
       "      <td>29.2</td>\n",
       "    </tr>\n",
       "    <tr>\n",
       "      <th>2</th>\n",
       "      <td>11579</td>\n",
       "      <td>2015</td>\n",
       "      <td>Bryce Harper</td>\n",
       "      <td>WSN</td>\n",
       "      <td>22</td>\n",
       "      <td>153</td>\n",
       "      <td>521</td>\n",
       "      <td>654</td>\n",
       "      <td>172</td>\n",
       "      <td>91</td>\n",
       "      <td>...</td>\n",
       "      <td>0.118</td>\n",
       "      <td>0.226</td>\n",
       "      <td>NaN</td>\n",
       "      <td>NaN</td>\n",
       "      <td>NaN</td>\n",
       "      <td>9.3</td>\n",
       "      <td>223.0</td>\n",
       "      <td>1.0</td>\n",
       "      <td>4.34</td>\n",
       "      <td>27.7</td>\n",
       "    </tr>\n",
       "    <tr>\n",
       "      <th>3</th>\n",
       "      <td>10155</td>\n",
       "      <td>2015</td>\n",
       "      <td>Mike Trout</td>\n",
       "      <td>LAA</td>\n",
       "      <td>23</td>\n",
       "      <td>159</td>\n",
       "      <td>575</td>\n",
       "      <td>682</td>\n",
       "      <td>172</td>\n",
       "      <td>93</td>\n",
       "      <td>...</td>\n",
       "      <td>0.207</td>\n",
       "      <td>0.282</td>\n",
       "      <td>NaN</td>\n",
       "      <td>NaN</td>\n",
       "      <td>NaN</td>\n",
       "      <td>9.3</td>\n",
       "      <td>236.0</td>\n",
       "      <td>73.0</td>\n",
       "      <td>4.20</td>\n",
       "      <td>29.6</td>\n",
       "    </tr>\n",
       "    <tr>\n",
       "      <th>4</th>\n",
       "      <td>15640</td>\n",
       "      <td>2017</td>\n",
       "      <td>Aaron Judge</td>\n",
       "      <td>NYY</td>\n",
       "      <td>25</td>\n",
       "      <td>155</td>\n",
       "      <td>542</td>\n",
       "      <td>678</td>\n",
       "      <td>154</td>\n",
       "      <td>75</td>\n",
       "      <td>...</td>\n",
       "      <td>0.157</td>\n",
       "      <td>0.290</td>\n",
       "      <td>NaN</td>\n",
       "      <td>NaN</td>\n",
       "      <td>NaN</td>\n",
       "      <td>8.7</td>\n",
       "      <td>209.0</td>\n",
       "      <td>0.0</td>\n",
       "      <td>4.50</td>\n",
       "      <td>28.0</td>\n",
       "    </tr>\n",
       "  </tbody>\n",
       "</table>\n",
       "<p>5 rows × 324 columns</p>\n",
       "</div>"
      ],
      "text/plain": [
       "    IDfg  Season          Name Team  Age    G   AB   PA    H  1B  ...  CStr%  \\\n",
       "0  13611    2018  Mookie Betts  BOS   25  136  520  614  180  96  ...  0.220   \n",
       "1  10155    2018    Mike Trout  LAA   26  140  471  608  147  80  ...  0.201   \n",
       "2  11579    2015  Bryce Harper  WSN   22  153  521  654  172  91  ...  0.118   \n",
       "3  10155    2015    Mike Trout  LAA   23  159  575  682  172  93  ...  0.207   \n",
       "4  15640    2017   Aaron Judge  NYY   25  155  542  678  154  75  ...  0.157   \n",
       "\n",
       "    CSW%  xBA  xSLG  xwOBA  L-WAR  competitive_runs  bolts  hp_to_1b  \\\n",
       "0  0.270  NaN   NaN    NaN   10.2             237.0    6.0      4.18   \n",
       "1  0.261  NaN   NaN    NaN    9.5             185.0   36.0      4.25   \n",
       "2  0.226  NaN   NaN    NaN    9.3             223.0    1.0      4.34   \n",
       "3  0.282  NaN   NaN    NaN    9.3             236.0   73.0      4.20   \n",
       "4  0.290  NaN   NaN    NaN    8.7             209.0    0.0      4.50   \n",
       "\n",
       "   sprint_speed  \n",
       "0          28.1  \n",
       "1          29.2  \n",
       "2          27.7  \n",
       "3          29.6  \n",
       "4          28.0  \n",
       "\n",
       "[5 rows x 324 columns]"
      ]
     },
     "execution_count": 14,
     "metadata": {},
     "output_type": "execute_result"
    }
   ],
   "source": [
    "clean_extended_data.head()\n"
   ]
  },
  {
   "cell_type": "code",
   "execution_count": 15,
   "metadata": {},
   "outputs": [],
   "source": [
    "# Prikazi kolone sa nan vrednostima a da ih ima vise od 0 i sortiraj po broju nan vrednosti\n",
    "nan_columns = clean_extended_data.columns[clean_extended_data.isna().sum() > 0]\n",
    "nan_columns_counts = clean_extended_data[nan_columns].isna().sum().sort_values(ascending=False)"
   ]
  },
  {
   "cell_type": "code",
   "execution_count": 16,
   "metadata": {},
   "outputs": [],
   "source": [
    "# obrisi sve kolone koje imaju vise od 800 nan vrednosti\n",
    "\n",
    "clean_extended_data = clean_extended_data.drop(columns=nan_columns_counts[nan_columns_counts > 800].index)"
   ]
  },
  {
   "cell_type": "code",
   "execution_count": 17,
   "metadata": {},
   "outputs": [
    {
     "data": {
      "text/plain": [
       "Index(['Name', 'Team', 'Dol', 'Age Rng'], dtype='object')"
      ]
     },
     "execution_count": 17,
     "metadata": {},
     "output_type": "execute_result"
    }
   ],
   "source": [
    "# Prikazi sve kolone koje nisu int ili float\n",
    "non_numeric_columns = clean_extended_data.select_dtypes(exclude=['int', 'float']).columns\n",
    "non_numeric_columns"
   ]
  },
  {
   "cell_type": "code",
   "execution_count": 18,
   "metadata": {},
   "outputs": [
    {
     "data": {
      "text/plain": [
       "Series([], dtype: float64)"
      ]
     },
     "execution_count": 18,
     "metadata": {},
     "output_type": "execute_result"
    }
   ],
   "source": [
    "# sve kolone koje su int ili float a imaju nan vrednosti popuni sa srednjom vrednosti te kolone\n",
    "for column in clean_extended_data.select_dtypes(include=['int', 'float']).columns:\n",
    "    clean_extended_data[column] = clean_extended_data[column].fillna(clean_extended_data[column].mean())\n",
    "    \n",
    "# Prikazi kolone sa nan vrednostima a da ih ima vise od 0 i sortiraj po broju nan vrednosti\n",
    "nan_columns = clean_extended_data.columns[clean_extended_data.isna().sum() > 0]\n",
    "nan_columns_counts = clean_extended_data[nan_columns].isna().sum().sort_values(ascending=False)\n",
    "nan_columns_counts\n"
   ]
  },
  {
   "cell_type": "code",
   "execution_count": 19,
   "metadata": {},
   "outputs": [
    {
     "data": {
      "text/html": [
       "<div>\n",
       "<style scoped>\n",
       "    .dataframe tbody tr th:only-of-type {\n",
       "        vertical-align: middle;\n",
       "    }\n",
       "\n",
       "    .dataframe tbody tr th {\n",
       "        vertical-align: top;\n",
       "    }\n",
       "\n",
       "    .dataframe thead th {\n",
       "        text-align: right;\n",
       "    }\n",
       "</style>\n",
       "<table border=\"1\" class=\"dataframe\">\n",
       "  <thead>\n",
       "    <tr style=\"text-align: right;\">\n",
       "      <th></th>\n",
       "      <th>IDfg</th>\n",
       "      <th>Season</th>\n",
       "      <th>Name</th>\n",
       "      <th>Team</th>\n",
       "      <th>Age</th>\n",
       "      <th>G</th>\n",
       "      <th>AB</th>\n",
       "      <th>PA</th>\n",
       "      <th>H</th>\n",
       "      <th>1B</th>\n",
       "      <th>...</th>\n",
       "      <th>HardHit</th>\n",
       "      <th>HardHit%</th>\n",
       "      <th>Events</th>\n",
       "      <th>CStr%</th>\n",
       "      <th>CSW%</th>\n",
       "      <th>L-WAR</th>\n",
       "      <th>competitive_runs</th>\n",
       "      <th>bolts</th>\n",
       "      <th>hp_to_1b</th>\n",
       "      <th>sprint_speed</th>\n",
       "    </tr>\n",
       "  </thead>\n",
       "  <tbody>\n",
       "    <tr>\n",
       "      <th>0</th>\n",
       "      <td>13611</td>\n",
       "      <td>2018</td>\n",
       "      <td>Mookie Betts</td>\n",
       "      <td>BOS</td>\n",
       "      <td>25</td>\n",
       "      <td>136</td>\n",
       "      <td>520</td>\n",
       "      <td>614</td>\n",
       "      <td>180</td>\n",
       "      <td>96</td>\n",
       "      <td>...</td>\n",
       "      <td>217</td>\n",
       "      <td>0.500</td>\n",
       "      <td>434</td>\n",
       "      <td>0.220</td>\n",
       "      <td>0.270</td>\n",
       "      <td>10.2</td>\n",
       "      <td>237.0</td>\n",
       "      <td>6.0</td>\n",
       "      <td>4.18</td>\n",
       "      <td>28.1</td>\n",
       "    </tr>\n",
       "    <tr>\n",
       "      <th>1</th>\n",
       "      <td>10155</td>\n",
       "      <td>2018</td>\n",
       "      <td>Mike Trout</td>\n",
       "      <td>LAA</td>\n",
       "      <td>26</td>\n",
       "      <td>140</td>\n",
       "      <td>471</td>\n",
       "      <td>608</td>\n",
       "      <td>147</td>\n",
       "      <td>80</td>\n",
       "      <td>...</td>\n",
       "      <td>162</td>\n",
       "      <td>0.460</td>\n",
       "      <td>352</td>\n",
       "      <td>0.201</td>\n",
       "      <td>0.261</td>\n",
       "      <td>9.5</td>\n",
       "      <td>185.0</td>\n",
       "      <td>36.0</td>\n",
       "      <td>4.25</td>\n",
       "      <td>29.2</td>\n",
       "    </tr>\n",
       "    <tr>\n",
       "      <th>2</th>\n",
       "      <td>11579</td>\n",
       "      <td>2015</td>\n",
       "      <td>Bryce Harper</td>\n",
       "      <td>WSN</td>\n",
       "      <td>22</td>\n",
       "      <td>153</td>\n",
       "      <td>521</td>\n",
       "      <td>654</td>\n",
       "      <td>172</td>\n",
       "      <td>91</td>\n",
       "      <td>...</td>\n",
       "      <td>188</td>\n",
       "      <td>0.477</td>\n",
       "      <td>394</td>\n",
       "      <td>0.118</td>\n",
       "      <td>0.226</td>\n",
       "      <td>9.3</td>\n",
       "      <td>223.0</td>\n",
       "      <td>1.0</td>\n",
       "      <td>4.34</td>\n",
       "      <td>27.7</td>\n",
       "    </tr>\n",
       "    <tr>\n",
       "      <th>3</th>\n",
       "      <td>10155</td>\n",
       "      <td>2015</td>\n",
       "      <td>Mike Trout</td>\n",
       "      <td>LAA</td>\n",
       "      <td>23</td>\n",
       "      <td>159</td>\n",
       "      <td>575</td>\n",
       "      <td>682</td>\n",
       "      <td>172</td>\n",
       "      <td>93</td>\n",
       "      <td>...</td>\n",
       "      <td>205</td>\n",
       "      <td>0.486</td>\n",
       "      <td>422</td>\n",
       "      <td>0.207</td>\n",
       "      <td>0.282</td>\n",
       "      <td>9.3</td>\n",
       "      <td>236.0</td>\n",
       "      <td>73.0</td>\n",
       "      <td>4.20</td>\n",
       "      <td>29.6</td>\n",
       "    </tr>\n",
       "    <tr>\n",
       "      <th>4</th>\n",
       "      <td>15640</td>\n",
       "      <td>2017</td>\n",
       "      <td>Aaron Judge</td>\n",
       "      <td>NYY</td>\n",
       "      <td>25</td>\n",
       "      <td>155</td>\n",
       "      <td>542</td>\n",
       "      <td>678</td>\n",
       "      <td>154</td>\n",
       "      <td>75</td>\n",
       "      <td>...</td>\n",
       "      <td>186</td>\n",
       "      <td>0.550</td>\n",
       "      <td>338</td>\n",
       "      <td>0.157</td>\n",
       "      <td>0.290</td>\n",
       "      <td>8.7</td>\n",
       "      <td>209.0</td>\n",
       "      <td>0.0</td>\n",
       "      <td>4.50</td>\n",
       "      <td>28.0</td>\n",
       "    </tr>\n",
       "  </tbody>\n",
       "</table>\n",
       "<p>5 rows × 265 columns</p>\n",
       "</div>"
      ],
      "text/plain": [
       "    IDfg  Season          Name Team  Age    G   AB   PA    H  1B  ...  \\\n",
       "0  13611    2018  Mookie Betts  BOS   25  136  520  614  180  96  ...   \n",
       "1  10155    2018    Mike Trout  LAA   26  140  471  608  147  80  ...   \n",
       "2  11579    2015  Bryce Harper  WSN   22  153  521  654  172  91  ...   \n",
       "3  10155    2015    Mike Trout  LAA   23  159  575  682  172  93  ...   \n",
       "4  15640    2017   Aaron Judge  NYY   25  155  542  678  154  75  ...   \n",
       "\n",
       "   HardHit  HardHit%  Events  CStr%   CSW%  L-WAR  competitive_runs  bolts  \\\n",
       "0      217     0.500     434  0.220  0.270   10.2             237.0    6.0   \n",
       "1      162     0.460     352  0.201  0.261    9.5             185.0   36.0   \n",
       "2      188     0.477     394  0.118  0.226    9.3             223.0    1.0   \n",
       "3      205     0.486     422  0.207  0.282    9.3             236.0   73.0   \n",
       "4      186     0.550     338  0.157  0.290    8.7             209.0    0.0   \n",
       "\n",
       "   hp_to_1b  sprint_speed  \n",
       "0      4.18          28.1  \n",
       "1      4.25          29.2  \n",
       "2      4.34          27.7  \n",
       "3      4.20          29.6  \n",
       "4      4.50          28.0  \n",
       "\n",
       "[5 rows x 265 columns]"
      ]
     },
     "execution_count": 19,
     "metadata": {},
     "output_type": "execute_result"
    }
   ],
   "source": [
    "# Prikazi ociscen dataset\n",
    "clean_extended_data.head()\n"
   ]
  },
  {
   "cell_type": "code",
   "execution_count": 20,
   "metadata": {},
   "outputs": [
    {
     "data": {
      "text/plain": [
       "0"
      ]
     },
     "execution_count": 20,
     "metadata": {},
     "output_type": "execute_result"
    }
   ],
   "source": [
    "# proveri da li ima nan vrednosti\n",
    "clean_extended_data.isna().sum().sum()"
   ]
  },
  {
   "cell_type": "code",
   "execution_count": 21,
   "metadata": {},
   "outputs": [],
   "source": [
    "# snimi dataset u novi csv fajl\n",
    "clean_extended_data.to_csv('../resources/clean_extended_data.csv', index=False)"
   ]
  }
 ],
 "metadata": {
  "kernelspec": {
   "display_name": "base",
   "language": "python",
   "name": "python3"
  },
  "language_info": {
   "codemirror_mode": {
    "name": "ipython",
    "version": 3
   },
   "file_extension": ".py",
   "mimetype": "text/x-python",
   "name": "python",
   "nbconvert_exporter": "python",
   "pygments_lexer": "ipython3",
   "version": "3.11.7"
  }
 },
 "nbformat": 4,
 "nbformat_minor": 2
}
