{
 "cells": [
  {
   "cell_type": "markdown",
   "metadata": {},
   "source": [
    "\n",
    "This notebook addresses data preparation for a baseball player hits prediction model for the next season. To prevent data leakage, we shift each player's hits data to the next season. This method ensures our predictions rely only on pre-season information, enhancing accuracy. The adjusted dataset is then saved for modeling."
   ]
  },
  {
   "cell_type": "code",
   "execution_count": 3,
   "metadata": {},
   "outputs": [],
   "source": [
    "import pandas as pd\n",
    "import numpy as np"
   ]
  },
  {
   "cell_type": "code",
   "execution_count": 4,
   "metadata": {},
   "outputs": [],
   "source": [
    "# Load full_batting_data.csv\n",
    "df = pd.read_csv('../resources/full_batting_data.csv')"
   ]
  },
  {
   "cell_type": "code",
   "execution_count": 5,
   "metadata": {},
   "outputs": [],
   "source": [
    "# Keep only necessery columns - IDfg,Season,Name,Age,PA,H,HR,R,RBI,SB,BB,SO,AVG,OBP,SLG,OPS,wOBA,WAR,BABIP,LD%,GB%,Contact%,SwStr%,Barrel%,EV,maxEV\n",
    "\n",
    "data = df.loc[:, ['IDfg', 'Season', 'Name', 'Age', 'PA', 'H', 'HR', 'R', 'RBI', 'SB', 'BB', 'SO', 'AVG', 'OBP', 'SLG', 'OPS', 'wOBA', 'WAR', 'BABIP', 'LD%', 'GB%', 'Contact%', 'SwStr%', 'Barrel%', 'EV', 'maxEV']]\n"
   ]
  },
  {
   "cell_type": "code",
   "execution_count": 6,
   "metadata": {},
   "outputs": [
    {
     "data": {
      "text/html": [
       "<div>\n",
       "<style scoped>\n",
       "    .dataframe tbody tr th:only-of-type {\n",
       "        vertical-align: middle;\n",
       "    }\n",
       "\n",
       "    .dataframe tbody tr th {\n",
       "        vertical-align: top;\n",
       "    }\n",
       "\n",
       "    .dataframe thead th {\n",
       "        text-align: right;\n",
       "    }\n",
       "</style>\n",
       "<table border=\"1\" class=\"dataframe\">\n",
       "  <thead>\n",
       "    <tr style=\"text-align: right;\">\n",
       "      <th></th>\n",
       "      <th>IDfg</th>\n",
       "      <th>Season</th>\n",
       "      <th>Name</th>\n",
       "      <th>Age</th>\n",
       "      <th>PA</th>\n",
       "      <th>H</th>\n",
       "      <th>HR</th>\n",
       "      <th>R</th>\n",
       "      <th>RBI</th>\n",
       "      <th>SB</th>\n",
       "      <th>...</th>\n",
       "      <th>wOBA</th>\n",
       "      <th>WAR</th>\n",
       "      <th>BABIP</th>\n",
       "      <th>LD%</th>\n",
       "      <th>GB%</th>\n",
       "      <th>Contact%</th>\n",
       "      <th>SwStr%</th>\n",
       "      <th>Barrel%</th>\n",
       "      <th>EV</th>\n",
       "      <th>maxEV</th>\n",
       "    </tr>\n",
       "  </thead>\n",
       "  <tbody>\n",
       "    <tr>\n",
       "      <th>0</th>\n",
       "      <td>13611</td>\n",
       "      <td>2018</td>\n",
       "      <td>Mookie Betts</td>\n",
       "      <td>25</td>\n",
       "      <td>614</td>\n",
       "      <td>180</td>\n",
       "      <td>32</td>\n",
       "      <td>129</td>\n",
       "      <td>80</td>\n",
       "      <td>30</td>\n",
       "      <td>...</td>\n",
       "      <td>0.449</td>\n",
       "      <td>10.4</td>\n",
       "      <td>0.368</td>\n",
       "      <td>0.212</td>\n",
       "      <td>0.339</td>\n",
       "      <td>0.859</td>\n",
       "      <td>0.050</td>\n",
       "      <td>0.131</td>\n",
       "      <td>92.3</td>\n",
       "      <td>110.6</td>\n",
       "    </tr>\n",
       "    <tr>\n",
       "      <th>1</th>\n",
       "      <td>10155</td>\n",
       "      <td>2018</td>\n",
       "      <td>Mike Trout</td>\n",
       "      <td>26</td>\n",
       "      <td>608</td>\n",
       "      <td>147</td>\n",
       "      <td>39</td>\n",
       "      <td>101</td>\n",
       "      <td>79</td>\n",
       "      <td>24</td>\n",
       "      <td>...</td>\n",
       "      <td>0.447</td>\n",
       "      <td>9.5</td>\n",
       "      <td>0.346</td>\n",
       "      <td>0.234</td>\n",
       "      <td>0.313</td>\n",
       "      <td>0.841</td>\n",
       "      <td>0.060</td>\n",
       "      <td>0.153</td>\n",
       "      <td>91.2</td>\n",
       "      <td>118.0</td>\n",
       "    </tr>\n",
       "    <tr>\n",
       "      <th>2</th>\n",
       "      <td>11579</td>\n",
       "      <td>2015</td>\n",
       "      <td>Bryce Harper</td>\n",
       "      <td>22</td>\n",
       "      <td>654</td>\n",
       "      <td>172</td>\n",
       "      <td>42</td>\n",
       "      <td>118</td>\n",
       "      <td>99</td>\n",
       "      <td>6</td>\n",
       "      <td>...</td>\n",
       "      <td>0.461</td>\n",
       "      <td>9.3</td>\n",
       "      <td>0.369</td>\n",
       "      <td>0.222</td>\n",
       "      <td>0.385</td>\n",
       "      <td>0.754</td>\n",
       "      <td>0.108</td>\n",
       "      <td>0.122</td>\n",
       "      <td>91.4</td>\n",
       "      <td>116.0</td>\n",
       "    </tr>\n",
       "    <tr>\n",
       "      <th>3</th>\n",
       "      <td>10155</td>\n",
       "      <td>2015</td>\n",
       "      <td>Mike Trout</td>\n",
       "      <td>23</td>\n",
       "      <td>682</td>\n",
       "      <td>172</td>\n",
       "      <td>41</td>\n",
       "      <td>104</td>\n",
       "      <td>90</td>\n",
       "      <td>11</td>\n",
       "      <td>...</td>\n",
       "      <td>0.415</td>\n",
       "      <td>9.3</td>\n",
       "      <td>0.344</td>\n",
       "      <td>0.244</td>\n",
       "      <td>0.372</td>\n",
       "      <td>0.800</td>\n",
       "      <td>0.075</td>\n",
       "      <td>0.161</td>\n",
       "      <td>92.9</td>\n",
       "      <td>117.7</td>\n",
       "    </tr>\n",
       "    <tr>\n",
       "      <th>4</th>\n",
       "      <td>15640</td>\n",
       "      <td>2017</td>\n",
       "      <td>Aaron Judge</td>\n",
       "      <td>25</td>\n",
       "      <td>678</td>\n",
       "      <td>154</td>\n",
       "      <td>52</td>\n",
       "      <td>128</td>\n",
       "      <td>114</td>\n",
       "      <td>9</td>\n",
       "      <td>...</td>\n",
       "      <td>0.430</td>\n",
       "      <td>8.7</td>\n",
       "      <td>0.357</td>\n",
       "      <td>0.219</td>\n",
       "      <td>0.349</td>\n",
       "      <td>0.676</td>\n",
       "      <td>0.133</td>\n",
       "      <td>0.249</td>\n",
       "      <td>94.9</td>\n",
       "      <td>121.1</td>\n",
       "    </tr>\n",
       "  </tbody>\n",
       "</table>\n",
       "<p>5 rows × 26 columns</p>\n",
       "</div>"
      ],
      "text/plain": [
       "    IDfg  Season          Name  Age   PA    H  HR    R  RBI  SB  ...   wOBA  \\\n",
       "0  13611    2018  Mookie Betts   25  614  180  32  129   80  30  ...  0.449   \n",
       "1  10155    2018    Mike Trout   26  608  147  39  101   79  24  ...  0.447   \n",
       "2  11579    2015  Bryce Harper   22  654  172  42  118   99   6  ...  0.461   \n",
       "3  10155    2015    Mike Trout   23  682  172  41  104   90  11  ...  0.415   \n",
       "4  15640    2017   Aaron Judge   25  678  154  52  128  114   9  ...  0.430   \n",
       "\n",
       "    WAR  BABIP    LD%    GB%  Contact%  SwStr%  Barrel%    EV  maxEV  \n",
       "0  10.4  0.368  0.212  0.339     0.859   0.050    0.131  92.3  110.6  \n",
       "1   9.5  0.346  0.234  0.313     0.841   0.060    0.153  91.2  118.0  \n",
       "2   9.3  0.369  0.222  0.385     0.754   0.108    0.122  91.4  116.0  \n",
       "3   9.3  0.344  0.244  0.372     0.800   0.075    0.161  92.9  117.7  \n",
       "4   8.7  0.357  0.219  0.349     0.676   0.133    0.249  94.9  121.1  \n",
       "\n",
       "[5 rows x 26 columns]"
      ]
     },
     "execution_count": 6,
     "metadata": {},
     "output_type": "execute_result"
    }
   ],
   "source": [
    "data.head()"
   ]
  },
  {
   "cell_type": "code",
   "execution_count": 7,
   "metadata": {},
   "outputs": [],
   "source": [
    "# data = pd.read_csv('resources/dataset.csv')\n",
    "# data.head()"
   ]
  },
  {
   "cell_type": "code",
   "execution_count": 8,
   "metadata": {},
   "outputs": [
    {
     "data": {
      "text/plain": [
       "3310"
      ]
     },
     "execution_count": 8,
     "metadata": {},
     "output_type": "execute_result"
    }
   ],
   "source": [
    "data_len = len(data)\n",
    "data_len\n",
    "    "
   ]
  },
  {
   "cell_type": "code",
   "execution_count": 9,
   "metadata": {},
   "outputs": [
    {
     "data": {
      "text/plain": [
       "array([[nan],\n",
       "       [nan],\n",
       "       [nan],\n",
       "       ...,\n",
       "       [nan],\n",
       "       [nan],\n",
       "       [nan]])"
      ]
     },
     "execution_count": 9,
     "metadata": {},
     "output_type": "execute_result"
    }
   ],
   "source": [
    "next_hits = np.empty((data_len, 1))\n",
    "next_hits[:, 0] = np.nan\n",
    "next_hits"
   ]
  },
  {
   "cell_type": "code",
   "execution_count": 10,
   "metadata": {},
   "outputs": [
    {
     "name": "stderr",
     "output_type": "stream",
     "text": [
      "C:\\Users\\abeli\\AppData\\Local\\Temp\\ipykernel_25532\\882367182.py:12: FutureWarning: Calling float on a single element Series is deprecated and will raise a TypeError in the future. Use float(ser.iloc[0]) instead\n",
      "  next_hits[row, 0] = data.loc[intersect,\"H\"]\n"
     ]
    }
   ],
   "source": [
    "for row in range(data_len):\n",
    "    season = data.loc[row,\"Season\"]\n",
    "    id = data.loc[row,\"IDfg\"]\n",
    "    \n",
    "    next_season = season + 1\n",
    "    \n",
    "    # print(f'season: {season}, id: {id}, next season={next_season}')\n",
    "    \n",
    "    intersect = ((data['IDfg']==id) & (data['Season']==next_season))\n",
    "    \n",
    "    if np.any(intersect):\n",
    "        next_hits[row, 0] = data.loc[intersect,\"H\"]\n",
    "        \n"
   ]
  },
  {
   "cell_type": "code",
   "execution_count": 11,
   "metadata": {},
   "outputs": [],
   "source": [
    "np.savetxt('../next_hits.csv', next_hits, delimiter=\",\")"
   ]
  },
  {
   "cell_type": "code",
   "execution_count": 12,
   "metadata": {},
   "outputs": [],
   "source": [
    "data['next_year_hits'] = next_hits"
   ]
  },
  {
   "cell_type": "code",
   "execution_count": 13,
   "metadata": {},
   "outputs": [],
   "source": [
    "data.to_csv('../resources/data2.csv', na_rep='NULL')"
   ]
  }
 ],
 "metadata": {
  "kernelspec": {
   "display_name": ".venv",
   "language": "python",
   "name": "python3"
  },
  "language_info": {
   "codemirror_mode": {
    "name": "ipython",
    "version": 3
   },
   "file_extension": ".py",
   "mimetype": "text/x-python",
   "name": "python",
   "nbconvert_exporter": "python",
   "pygments_lexer": "ipython3",
   "version": "3.11.7"
  }
 },
 "nbformat": 4,
 "nbformat_minor": 2
}
