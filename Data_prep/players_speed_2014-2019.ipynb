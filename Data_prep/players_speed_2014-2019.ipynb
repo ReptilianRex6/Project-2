{
 "cells": [
  {
   "cell_type": "code",
   "execution_count": 1,
   "metadata": {},
   "outputs": [],
   "source": [
    "import pandas as pd\n",
    "from pybaseball import statcast_sprint_speed"
   ]
  },
  {
   "cell_type": "code",
   "execution_count": 2,
   "metadata": {},
   "outputs": [
    {
     "name": "stdout",
     "output_type": "stream",
     "text": [
      "Unable to fetch data for 2014.\n",
      "Data successfully saved to '../resources/sprint_speed_data_2015.csv'.\n",
      "Data successfully saved to '../resources/sprint_speed_data_2016.csv'.\n",
      "Data successfully saved to '../resources/sprint_speed_data_2017.csv'.\n",
      "Data successfully saved to '../resources/sprint_speed_data_2018.csv'.\n",
      "Data successfully saved to '../resources/sprint_speed_data_2019.csv'.\n"
     ]
    }
   ],
   "source": [
    "\n",
    "\n",
    "def fetch_and_save_sprint_speed(year: int, min_opp: int, filename: str) -> None:\n",
    "    \"\"\"\n",
    "    Fetches player sprint speed data for the given year and minimum number of opportunities,\n",
    "    then saves the data to a CSV file.\n",
    "    \n",
    "    Arguments:\n",
    "    year -- The year for which to fetch data.\n",
    "    min_opp -- Minimum number of sprinting opportunities.\n",
    "    filename -- The name of the CSV file to save the data to.\n",
    "    \"\"\"\n",
    "    # Fetch data\n",
    "    sprint_speed_data = statcast_sprint_speed(year, min_opp)\n",
    "    \n",
    "    # Check data and save to CSV\n",
    "    if sprint_speed_data is not None and not sprint_speed_data.empty:\n",
    "        sprint_speed_data.to_csv(filename, index=False)\n",
    "        print(f\"Data successfully saved to '{filename}'.\")\n",
    "    else:\n",
    "        print(f\"Unable to fetch data for {year}.\")\n",
    "\n",
    "# Loop through years 2014 to 2019 and fetch sprint speed data\n",
    "for year in range(2014, 2020):  # 2020 is not included\n",
    "    filename = f'../resources/sprint_speed_data_{year}.csv'\n",
    "    fetch_and_save_sprint_speed(year, 10, filename)\n"
   ]
  }
 ],
 "metadata": {
  "kernelspec": {
   "display_name": "base",
   "language": "python",
   "name": "python3"
  },
  "language_info": {
   "codemirror_mode": {
    "name": "ipython",
    "version": 3
   },
   "file_extension": ".py",
   "mimetype": "text/x-python",
   "name": "python",
   "nbconvert_exporter": "python",
   "pygments_lexer": "ipython3",
   "version": "3.11.7"
  }
 },
 "nbformat": 4,
 "nbformat_minor": 2
}
