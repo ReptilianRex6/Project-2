{
 "cells": [
  {
   "cell_type": "code",
   "execution_count": null,
   "metadata": {},
   "outputs": [],
   "source": [
    "import pandas as pd\n",
    "from sklearn.ensemble import RandomForestRegressor\n",
    "from sklearn.model_selection import train_test_split\n",
    "from sklearn.ensemble import GradientBoostingRegressor\n",
    "\n",
    "# import numpy as np\n",
    "# import random\n",
    "# from sklearn.linear_model import LinearRegression\n",
    "# from sklearn.preprocessing import StandardScaler\n",
    "# from sklearn.neighbors import KNeighborsRegressor\n",
    "# from sklearn.ensemble import ExtraTreesRegressor, AdaBoostRegressor, GradientBoostingRegressor\n",
    "# from sklearn.svm import SVR"
   ]
  },
  {
   "cell_type": "code",
   "execution_count": null,
   "metadata": {},
   "outputs": [],
   "source": [
    "def test_model(model, data):\n",
    "    \n",
    "    X_train, X_test, y_train, y_test = data\n",
    "    reg = model.fit(X_train, y_train)\n",
    "    \n",
    "    train_score = reg.score(X_train, y_train)\n",
    "    test_score = reg.score(X_test, y_test)\n",
    "    \n",
    "    # print(f'Model: {type(reg).__name__}')\n",
    "    \n",
    "    # print(f'Train score: {train_score}')\n",
    "    # print(f'Test Score: {test_score}\\n')    \n",
    "    \n",
    "    return {'train':train_score, 'test':test_score}"
   ]
  },
  {
   "cell_type": "code",
   "execution_count": null,
   "metadata": {},
   "outputs": [],
   "source": [
    "data = pd.read_csv('data2.csv')\n",
    "data.head()"
   ]
  },
  {
   "cell_type": "code",
   "execution_count": null,
   "metadata": {},
   "outputs": [],
   "source": [
    "relevant_cols=['Age','PA','H','HR','R','RBI','SB','BB','SO','AVG','OBP','SLG','OPS','wOBA','WAR','next_year_hits']"
   ]
  },
  {
   "cell_type": "code",
   "execution_count": null,
   "metadata": {},
   "outputs": [],
   "source": [
    "df = data.copy(deep=True)\n",
    "\n",
    "relevant = df.loc[:,relevant_cols]\n",
    "relevant = relevant.dropna()\n",
    "\n",
    "relevant.head()"
   ]
  },
  {
   "cell_type": "code",
   "execution_count": null,
   "metadata": {},
   "outputs": [],
   "source": [
    "y = relevant.pop('next_year_hits')\n",
    "X = relevant\n",
    "\n",
    "X.head()"
   ]
  },
  {
   "cell_type": "code",
   "execution_count": null,
   "metadata": {},
   "outputs": [],
   "source": [
    "X_len = len(X)\n",
    "X_len"
   ]
  },
  {
   "cell_type": "code",
   "execution_count": null,
   "metadata": {},
   "outputs": [],
   "source": [
    "def run(model, X, y, model_name):\n",
    "    \n",
    "    results = []\n",
    "    max_r2 = -999.0\n",
    "    max_index = -999\n",
    "\n",
    "    idx = 0\n",
    "\n",
    "    for trees in range(40, 200, 10):\n",
    "        for depth in range(2, 10, 2):\n",
    "            \n",
    "            print(f'\\ntrees: {trees}, max-depth: {depth}')\n",
    "        \n",
    "            X_train, X_test, y_train, y_test = train_test_split(X, y, random_state=1)\n",
    "        \n",
    "            forest_data = [X_train, X_test, y_train, y_test] \n",
    "        \n",
    "            scores = test_model(model(n_estimators=trees, max_depth=depth), forest_data)\n",
    "        \n",
    "            results.append((trees, depth, scores['train'], scores['test'], len(X)))\n",
    "        \n",
    "            if scores['test']>max_r2:\n",
    "                max_r2 = scores['test']\n",
    "                max_index=idx\n",
    "                print(f'New max score: {max_r2}')\n",
    "                \n",
    "            idx += 1\n",
    "            \n",
    "    best = results[max_index]\n",
    "    print(f'\\n\\nbest {model_name}\\ntrain score: {best[2]}\\ntest score: {best[3]}\\nnum rows: {best[4]}\\ntrees: {best[0]}\\nmax-depth: {best[1]}\\n\\n')\n",
    "    \n",
    "    return results\n",
    "        "
   ]
  },
  {
   "cell_type": "code",
   "execution_count": null,
   "metadata": {},
   "outputs": [],
   "source": [
    "results_rf = run(RandomForestRegressor, X, y, 'RANDOM FOREST')\n",
    "results_gb = run(GradientBoostingRegressor, X, y, 'GRADIENT BOOSTING')"
   ]
  },
  {
   "cell_type": "code",
   "execution_count": null,
   "metadata": {},
   "outputs": [],
   "source": [
    "# # standard regressors\n",
    "# test_model(LinearRegression(), data)\n",
    "\n",
    "# test_model(KNeighborsRegressor(), data)\n",
    "# test_model(RandomForestRegressor(), data)\n",
    "# test_model(ExtraTreesRegressor(), data)\n",
    "# test_model(AdaBoostRegressor(), data)\n",
    "# test_model(SVR(C=1.0, epsilon=0.2), data)\n",
    "# test_model(GradientBoostingRegressor(), data)"
   ]
  }
 ],
 "metadata": {
  "kernelspec": {
   "display_name": ".venv",
   "language": "python",
   "name": "python3"
  },
  "language_info": {
   "codemirror_mode": {
    "name": "ipython",
    "version": 3
   },
   "file_extension": ".py",
   "mimetype": "text/x-python",
   "name": "python",
   "nbconvert_exporter": "python",
   "pygments_lexer": "ipython3",
   "version": "3.11.7"
  }
 },
 "nbformat": 4,
 "nbformat_minor": 2
}
